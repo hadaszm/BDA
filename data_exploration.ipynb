{
 "cells": [
  {
   "cell_type": "code",
   "execution_count": 29,
   "metadata": {},
   "outputs": [],
   "source": [
    "import pandas as pd\n",
    "import os\n",
    "import json\n",
    "from datetime import datetime,timedelta\n",
    "from tqdm import tqdm\n",
    "import numpy as np\n",
    "import itertools"
   ]
  },
  {
   "cell_type": "code",
   "execution_count": 3,
   "metadata": {},
   "outputs": [],
   "source": [
    "folder = 'data'"
   ]
  },
  {
   "attachments": {},
   "cell_type": "markdown",
   "metadata": {},
   "source": [
    "# Historical data exploration"
   ]
  },
  {
   "cell_type": "code",
   "execution_count": 4,
   "metadata": {},
   "outputs": [],
   "source": [
    "bikes_data = pd.read_csv(os.path.join(folder,'bike_list.csv'))\n",
    "places = pd.read_csv(os.path.join(folder,'places.csv'))\n",
    "cities = pd.read_csv(os.path.join(folder,'cities.csv'))\n",
    "countries = pd.read_csv(os.path.join(folder,'countries.csv'))\n",
    "\n",
    "bikes_data['appeared'] = pd.to_datetime(bikes_data['appeared'], format='%Y-%m-%d %H:%M:%S')\n",
    "bikes_data['disappeared'] = pd.to_datetime(bikes_data['disappeared'], format='%Y-%m-%d %H:%M:%S')"
   ]
  },
  {
   "attachments": {},
   "cell_type": "markdown",
   "metadata": {},
   "source": [
    "## Functions"
   ]
  },
  {
   "cell_type": "code",
   "execution_count": 26,
   "metadata": {},
   "outputs": [],
   "source": [
    "def get_data_from_city(city_id):\n",
    "    '''get bikes data from the specific city \n",
    "        result data are merged bikes data and places -> to get lat, lng and uid of a station\n",
    "    '''\n",
    "    city_stations_guids = list(places[places['cityguid']==city_id]['guid'])\n",
    "    city_bikes = bikes_data[(bikes_data['placeguid'].isin(city_stations_guids))]\n",
    "    city_bikes = city_bikes.merge(places[['guid','uid','lat','lng']], left_on='placeguid', right_on='guid', suffixes=['_bikes','_stations'])\n",
    "    return city_bikes"
   ]
  },
  {
   "cell_type": "code",
   "execution_count": 34,
   "metadata": {},
   "outputs": [],
   "source": [
    "def datetime_range(start, end, delta):\n",
    "    current = start\n",
    "    while current < end:\n",
    "        yield current\n",
    "        current += delta\n"
   ]
  },
  {
   "cell_type": "code",
   "execution_count": 43,
   "metadata": {},
   "outputs": [],
   "source": [
    "def get_time_index(start,stop,minutes_in_interval):\n",
    "    _ = list(datetime_range(start, stop, timedelta(minutes=minutes_in_interval)))\n",
    "    return _"
   ]
  },
  {
   "cell_type": "code",
   "execution_count": 46,
   "metadata": {},
   "outputs": [],
   "source": [
    "def prepere_data(data,time_index):\n",
    "\n",
    "    # initial filtering\n",
    "    data = data[(data['appeared']>min(time_index)) & (data['appeared']<max(time_index))]\n",
    "    data_uid = list(np.unique(data['uid']))\n",
    "\n",
    "    # creating index\n",
    "    tuples = list(itertools.product(time_index,data_uid))\n",
    "    index = pd.MultiIndex.from_tuples(tuples, names=[\"time\",\"station\"])\n",
    "\n",
    "    # producting data\n",
    "    results = pd.DataFrame(data = np.zeros(len(index)),index=index, columns = ['number_of_bikes'])\n",
    "    for i in tqdm(index):\n",
    "        t,station = i\n",
    "        station_bikes = data[data['uid']==station]\n",
    "        results.loc[i]=len(station_bikes[(station_bikes['appeared']<t) & (station_bikes['disappeared']>t)])\n",
    "    return results"
   ]
  },
  {
   "attachments": {},
   "cell_type": "markdown",
   "metadata": {},
   "source": [
    "## Countries\n",
    "- guid - id of the country in other tables\n",
    "- country - code\n",
    "- country_name - country name\n",
    "- lat,lng - coordinates\n",
    "- created - probably when the first recird from this country was added to the db"
   ]
  },
  {
   "cell_type": "code",
   "execution_count": 4,
   "metadata": {},
   "outputs": [
    {
     "data": {
      "text/html": [
       "<div>\n",
       "<style scoped>\n",
       "    .dataframe tbody tr th:only-of-type {\n",
       "        vertical-align: middle;\n",
       "    }\n",
       "\n",
       "    .dataframe tbody tr th {\n",
       "        vertical-align: top;\n",
       "    }\n",
       "\n",
       "    .dataframe thead th {\n",
       "        text-align: right;\n",
       "    }\n",
       "</style>\n",
       "<table border=\"1\" class=\"dataframe\">\n",
       "  <thead>\n",
       "    <tr style=\"text-align: right;\">\n",
       "      <th></th>\n",
       "      <th>guid</th>\n",
       "      <th>country</th>\n",
       "      <th>country_name</th>\n",
       "      <th>lat</th>\n",
       "      <th>lng</th>\n",
       "      <th>created</th>\n",
       "    </tr>\n",
       "  </thead>\n",
       "  <tbody>\n",
       "    <tr>\n",
       "      <th>0</th>\n",
       "      <td>1</td>\n",
       "      <td>DE</td>\n",
       "      <td>Germany</td>\n",
       "      <td>50.7086</td>\n",
       "      <td>10.63480</td>\n",
       "      <td>2019-05-23 20:03:43.310</td>\n",
       "    </tr>\n",
       "    <tr>\n",
       "      <th>1</th>\n",
       "      <td>2</td>\n",
       "      <td>AT</td>\n",
       "      <td>Austria</td>\n",
       "      <td>47.3835</td>\n",
       "      <td>13.13960</td>\n",
       "      <td>2019-05-23 20:04:07.830</td>\n",
       "    </tr>\n",
       "    <tr>\n",
       "      <th>2</th>\n",
       "      <td>3</td>\n",
       "      <td>NZ</td>\n",
       "      <td>New Zealand</td>\n",
       "      <td>-39.0789</td>\n",
       "      <td>175.64900</td>\n",
       "      <td>2019-05-23 20:04:07.937</td>\n",
       "    </tr>\n",
       "    <tr>\n",
       "      <th>3</th>\n",
       "      <td>4</td>\n",
       "      <td>CH</td>\n",
       "      <td>Switzerland</td>\n",
       "      <td>47.2569</td>\n",
       "      <td>8.62976</td>\n",
       "      <td>2019-05-23 20:04:26.660</td>\n",
       "    </tr>\n",
       "    <tr>\n",
       "      <th>4</th>\n",
       "      <td>5</td>\n",
       "      <td>LV</td>\n",
       "      <td>Latvia</td>\n",
       "      <td>56.9704</td>\n",
       "      <td>23.97490</td>\n",
       "      <td>2019-05-23 20:04:52.500</td>\n",
       "    </tr>\n",
       "  </tbody>\n",
       "</table>\n",
       "</div>"
      ],
      "text/plain": [
       "   guid country country_name      lat        lng                  created\n",
       "0     1      DE      Germany  50.7086   10.63480  2019-05-23 20:03:43.310\n",
       "1     2      AT      Austria  47.3835   13.13960  2019-05-23 20:04:07.830\n",
       "2     3      NZ  New Zealand -39.0789  175.64900  2019-05-23 20:04:07.937\n",
       "3     4      CH  Switzerland  47.2569    8.62976  2019-05-23 20:04:26.660\n",
       "4     5      LV       Latvia  56.9704   23.97490  2019-05-23 20:04:52.500"
      ]
     },
     "execution_count": 4,
     "metadata": {},
     "output_type": "execute_result"
    }
   ],
   "source": [
    "countries.head()"
   ]
  },
  {
   "attachments": {},
   "cell_type": "markdown",
   "metadata": {},
   "source": [
    "## Cities\n",
    "* guid - unique id used in ither tables\n",
    "* uid -  id from API-> sometimes the same for different cities (examples shown later)\n",
    "* name - name of the city -> same issue\n",
    "* countryguid - unique id of the country\n",
    "* lat, lng - coordinates\n",
    "* created - probably when the first recird from this city was added to the db"
   ]
  },
  {
   "cell_type": "code",
   "execution_count": 5,
   "metadata": {},
   "outputs": [
    {
     "data": {
      "text/html": [
       "<div>\n",
       "<style scoped>\n",
       "    .dataframe tbody tr th:only-of-type {\n",
       "        vertical-align: middle;\n",
       "    }\n",
       "\n",
       "    .dataframe tbody tr th {\n",
       "        vertical-align: top;\n",
       "    }\n",
       "\n",
       "    .dataframe thead th {\n",
       "        text-align: right;\n",
       "    }\n",
       "</style>\n",
       "<table border=\"1\" class=\"dataframe\">\n",
       "  <thead>\n",
       "    <tr style=\"text-align: right;\">\n",
       "      <th></th>\n",
       "      <th>guid</th>\n",
       "      <th>uid</th>\n",
       "      <th>name</th>\n",
       "      <th>countryguid</th>\n",
       "      <th>lat</th>\n",
       "      <th>lng</th>\n",
       "      <th>created</th>\n",
       "    </tr>\n",
       "  </thead>\n",
       "  <tbody>\n",
       "    <tr>\n",
       "      <th>0</th>\n",
       "      <td>1</td>\n",
       "      <td>7</td>\n",
       "      <td>Wiesbaden</td>\n",
       "      <td>1</td>\n",
       "      <td>50.0709</td>\n",
       "      <td>8.24322</td>\n",
       "      <td>2019-05-23 20:03:43.343</td>\n",
       "    </tr>\n",
       "    <tr>\n",
       "      <th>1</th>\n",
       "      <td>2</td>\n",
       "      <td>43</td>\n",
       "      <td>Hamburg</td>\n",
       "      <td>1</td>\n",
       "      <td>53.5506</td>\n",
       "      <td>9.99052</td>\n",
       "      <td>2019-05-23 20:03:46.920</td>\n",
       "    </tr>\n",
       "    <tr>\n",
       "      <th>2</th>\n",
       "      <td>3</td>\n",
       "      <td>101</td>\n",
       "      <td>Tübingen</td>\n",
       "      <td>1</td>\n",
       "      <td>48.5203</td>\n",
       "      <td>9.05591</td>\n",
       "      <td>2019-05-23 20:03:51.463</td>\n",
       "    </tr>\n",
       "    <tr>\n",
       "      <th>3</th>\n",
       "      <td>4</td>\n",
       "      <td>139</td>\n",
       "      <td>München</td>\n",
       "      <td>1</td>\n",
       "      <td>48.1358</td>\n",
       "      <td>11.53560</td>\n",
       "      <td>2019-05-23 20:03:52.790</td>\n",
       "    </tr>\n",
       "    <tr>\n",
       "      <th>4</th>\n",
       "      <td>5</td>\n",
       "      <td>147</td>\n",
       "      <td>Flensburg</td>\n",
       "      <td>1</td>\n",
       "      <td>54.7804</td>\n",
       "      <td>9.43571</td>\n",
       "      <td>2019-05-23 20:03:53.080</td>\n",
       "    </tr>\n",
       "  </tbody>\n",
       "</table>\n",
       "</div>"
      ],
      "text/plain": [
       "   guid  uid       name  countryguid      lat       lng  \\\n",
       "0     1    7  Wiesbaden            1  50.0709   8.24322   \n",
       "1     2   43    Hamburg            1  53.5506   9.99052   \n",
       "2     3  101   Tübingen            1  48.5203   9.05591   \n",
       "3     4  139    München            1  48.1358  11.53560   \n",
       "4     5  147  Flensburg            1  54.7804   9.43571   \n",
       "\n",
       "                   created  \n",
       "0  2019-05-23 20:03:43.343  \n",
       "1  2019-05-23 20:03:46.920  \n",
       "2  2019-05-23 20:03:51.463  \n",
       "3  2019-05-23 20:03:52.790  \n",
       "4  2019-05-23 20:03:53.080  "
      ]
     },
     "execution_count": 5,
     "metadata": {},
     "output_type": "execute_result"
    }
   ],
   "source": [
    "cities.head()"
   ]
  },
  {
   "attachments": {},
   "cell_type": "markdown",
   "metadata": {},
   "source": [
    "Not unique uid"
   ]
  },
  {
   "cell_type": "code",
   "execution_count": 6,
   "metadata": {},
   "outputs": [
    {
     "data": {
      "text/html": [
       "<div>\n",
       "<style scoped>\n",
       "    .dataframe tbody tr th:only-of-type {\n",
       "        vertical-align: middle;\n",
       "    }\n",
       "\n",
       "    .dataframe tbody tr th {\n",
       "        vertical-align: top;\n",
       "    }\n",
       "\n",
       "    .dataframe thead th {\n",
       "        text-align: right;\n",
       "    }\n",
       "</style>\n",
       "<table border=\"1\" class=\"dataframe\">\n",
       "  <thead>\n",
       "    <tr style=\"text-align: right;\">\n",
       "      <th></th>\n",
       "      <th>guid</th>\n",
       "      <th>uid</th>\n",
       "      <th>name</th>\n",
       "      <th>countryguid</th>\n",
       "      <th>lat</th>\n",
       "      <th>lng</th>\n",
       "      <th>created</th>\n",
       "    </tr>\n",
       "  </thead>\n",
       "  <tbody>\n",
       "    <tr>\n",
       "      <th>199</th>\n",
       "      <td>200</td>\n",
       "      <td>548</td>\n",
       "      <td>Tarnów</td>\n",
       "      <td>6</td>\n",
       "      <td>50.0113</td>\n",
       "      <td>20.9728</td>\n",
       "      <td>2019-05-23 20:23:14.697</td>\n",
       "    </tr>\n",
       "    <tr>\n",
       "      <th>280</th>\n",
       "      <td>281</td>\n",
       "      <td>548</td>\n",
       "      <td>Warszawa</td>\n",
       "      <td>6</td>\n",
       "      <td>50.0113</td>\n",
       "      <td>20.9728</td>\n",
       "      <td>2019-10-09 10:04:29.167</td>\n",
       "    </tr>\n",
       "  </tbody>\n",
       "</table>\n",
       "</div>"
      ],
      "text/plain": [
       "     guid  uid      name  countryguid      lat      lng  \\\n",
       "199   200  548    Tarnów            6  50.0113  20.9728   \n",
       "280   281  548  Warszawa            6  50.0113  20.9728   \n",
       "\n",
       "                     created  \n",
       "199  2019-05-23 20:23:14.697  \n",
       "280  2019-10-09 10:04:29.167  "
      ]
     },
     "execution_count": 6,
     "metadata": {},
     "output_type": "execute_result"
    }
   ],
   "source": [
    "cities[cities['uid'] == 548]"
   ]
  },
  {
   "cell_type": "code",
   "execution_count": 7,
   "metadata": {},
   "outputs": [
    {
     "data": {
      "text/html": [
       "<div>\n",
       "<style scoped>\n",
       "    .dataframe tbody tr th:only-of-type {\n",
       "        vertical-align: middle;\n",
       "    }\n",
       "\n",
       "    .dataframe tbody tr th {\n",
       "        vertical-align: top;\n",
       "    }\n",
       "\n",
       "    .dataframe thead th {\n",
       "        text-align: right;\n",
       "    }\n",
       "</style>\n",
       "<table border=\"1\" class=\"dataframe\">\n",
       "  <thead>\n",
       "    <tr style=\"text-align: right;\">\n",
       "      <th></th>\n",
       "      <th>guid</th>\n",
       "      <th>uid</th>\n",
       "      <th>name</th>\n",
       "      <th>countryguid</th>\n",
       "      <th>lat</th>\n",
       "      <th>lng</th>\n",
       "      <th>created</th>\n",
       "    </tr>\n",
       "  </thead>\n",
       "  <tbody>\n",
       "    <tr>\n",
       "      <th>143</th>\n",
       "      <td>144</td>\n",
       "      <td>362</td>\n",
       "      <td>Berlin</td>\n",
       "      <td>1</td>\n",
       "      <td>52.5087</td>\n",
       "      <td>13.3563</td>\n",
       "      <td>2019-05-23 20:14:25.917</td>\n",
       "    </tr>\n",
       "  </tbody>\n",
       "</table>\n",
       "</div>"
      ],
      "text/plain": [
       "     guid  uid    name  countryguid      lat      lng                  created\n",
       "143   144  362  Berlin            1  52.5087  13.3563  2019-05-23 20:14:25.917"
      ]
     },
     "execution_count": 7,
     "metadata": {},
     "output_type": "execute_result"
    }
   ],
   "source": [
    "cities[cities['uid']==362]"
   ]
  },
  {
   "attachments": {},
   "cell_type": "markdown",
   "metadata": {},
   "source": [
    "Not unique name"
   ]
  },
  {
   "cell_type": "code",
   "execution_count": 8,
   "metadata": {},
   "outputs": [
    {
     "data": {
      "text/html": [
       "<div>\n",
       "<style scoped>\n",
       "    .dataframe tbody tr th:only-of-type {\n",
       "        vertical-align: middle;\n",
       "    }\n",
       "\n",
       "    .dataframe tbody tr th {\n",
       "        vertical-align: top;\n",
       "    }\n",
       "\n",
       "    .dataframe thead th {\n",
       "        text-align: right;\n",
       "    }\n",
       "</style>\n",
       "<table border=\"1\" class=\"dataframe\">\n",
       "  <thead>\n",
       "    <tr style=\"text-align: right;\">\n",
       "      <th></th>\n",
       "      <th>guid</th>\n",
       "      <th>uid</th>\n",
       "      <th>name</th>\n",
       "      <th>countryguid</th>\n",
       "      <th>lat</th>\n",
       "      <th>lng</th>\n",
       "      <th>created</th>\n",
       "    </tr>\n",
       "  </thead>\n",
       "  <tbody>\n",
       "    <tr>\n",
       "      <th>66</th>\n",
       "      <td>67</td>\n",
       "      <td>210</td>\n",
       "      <td>Warszawa</td>\n",
       "      <td>6</td>\n",
       "      <td>52.2265</td>\n",
       "      <td>21.0127</td>\n",
       "      <td>2019-05-23 20:06:29.480</td>\n",
       "    </tr>\n",
       "    <tr>\n",
       "      <th>280</th>\n",
       "      <td>281</td>\n",
       "      <td>548</td>\n",
       "      <td>Warszawa</td>\n",
       "      <td>6</td>\n",
       "      <td>50.0113</td>\n",
       "      <td>20.9728</td>\n",
       "      <td>2019-10-09 10:04:29.167</td>\n",
       "    </tr>\n",
       "  </tbody>\n",
       "</table>\n",
       "</div>"
      ],
      "text/plain": [
       "     guid  uid      name  countryguid      lat      lng  \\\n",
       "66     67  210  Warszawa            6  52.2265  21.0127   \n",
       "280   281  548  Warszawa            6  50.0113  20.9728   \n",
       "\n",
       "                     created  \n",
       "66   2019-05-23 20:06:29.480  \n",
       "280  2019-10-09 10:04:29.167  "
      ]
     },
     "execution_count": 8,
     "metadata": {},
     "output_type": "execute_result"
    }
   ],
   "source": [
    "cities[cities['name']=='Warszawa']"
   ]
  },
  {
   "attachments": {},
   "cell_type": "markdown",
   "metadata": {},
   "source": [
    "## Places\n",
    "* guid - unique id of the record\n",
    "* uid - id of the station from API -> repetitions\n",
    "* name - name of the station\n",
    "* bike, spot - bool values from API ( I dont know what they meant)\n",
    "* cityguid - unique id of the city\n",
    "* lat,lng - cooridinates\n",
    "* created, disappeared - probably the first record, when the station stopped being active ( nth like that in API)"
   ]
  },
  {
   "cell_type": "code",
   "execution_count": 11,
   "metadata": {},
   "outputs": [
    {
     "data": {
      "text/html": [
       "<div>\n",
       "<style scoped>\n",
       "    .dataframe tbody tr th:only-of-type {\n",
       "        vertical-align: middle;\n",
       "    }\n",
       "\n",
       "    .dataframe tbody tr th {\n",
       "        vertical-align: top;\n",
       "    }\n",
       "\n",
       "    .dataframe thead th {\n",
       "        text-align: right;\n",
       "    }\n",
       "</style>\n",
       "<table border=\"1\" class=\"dataframe\">\n",
       "  <thead>\n",
       "    <tr style=\"text-align: right;\">\n",
       "      <th></th>\n",
       "      <th>guid</th>\n",
       "      <th>uid</th>\n",
       "      <th>name</th>\n",
       "      <th>bike</th>\n",
       "      <th>spot</th>\n",
       "      <th>cityguid</th>\n",
       "      <th>lat</th>\n",
       "      <th>lng</th>\n",
       "      <th>created</th>\n",
       "      <th>disappeared</th>\n",
       "    </tr>\n",
       "  </thead>\n",
       "  <tbody>\n",
       "    <tr>\n",
       "      <th>0</th>\n",
       "      <td>2215</td>\n",
       "      <td>40</td>\n",
       "      <td>NH-Hotel / Hansa Str. 43</td>\n",
       "      <td>0</td>\n",
       "      <td>1</td>\n",
       "      <td>75</td>\n",
       "      <td>51.074133</td>\n",
       "      <td>13.738875</td>\n",
       "      <td>2019-05-23 20:08:47.487</td>\n",
       "      <td>2019-06-03 12:35:41.190</td>\n",
       "    </tr>\n",
       "    <tr>\n",
       "      <th>1</th>\n",
       "      <td>327398</td>\n",
       "      <td>40</td>\n",
       "      <td>NH-Hotel / Hansa Str. 43</td>\n",
       "      <td>0</td>\n",
       "      <td>1</td>\n",
       "      <td>75</td>\n",
       "      <td>51.074133</td>\n",
       "      <td>13.738875</td>\n",
       "      <td>2019-06-03 12:35:41.340</td>\n",
       "      <td>NaN</td>\n",
       "    </tr>\n",
       "    <tr>\n",
       "      <th>2</th>\n",
       "      <td>6997</td>\n",
       "      <td>46</td>\n",
       "      <td>4260 - Südbahnhof / Hedderichstr.</td>\n",
       "      <td>0</td>\n",
       "      <td>1</td>\n",
       "      <td>169</td>\n",
       "      <td>50.099555</td>\n",
       "      <td>8.685041</td>\n",
       "      <td>2019-05-23 20:18:33.007</td>\n",
       "      <td>2019-06-03 12:48:44.320</td>\n",
       "    </tr>\n",
       "    <tr>\n",
       "      <th>3</th>\n",
       "      <td>328767</td>\n",
       "      <td>46</td>\n",
       "      <td>4260 - Südbahnhof / Hedderichstr.</td>\n",
       "      <td>0</td>\n",
       "      <td>1</td>\n",
       "      <td>169</td>\n",
       "      <td>50.099555</td>\n",
       "      <td>8.685041</td>\n",
       "      <td>2019-06-03 12:48:44.443</td>\n",
       "      <td>NaN</td>\n",
       "    </tr>\n",
       "    <tr>\n",
       "      <th>4</th>\n",
       "      <td>2216</td>\n",
       "      <td>73</td>\n",
       "      <td>Bf. Dresden-Neustadt</td>\n",
       "      <td>0</td>\n",
       "      <td>1</td>\n",
       "      <td>75</td>\n",
       "      <td>51.065184</td>\n",
       "      <td>13.741220</td>\n",
       "      <td>2019-05-23 20:08:47.520</td>\n",
       "      <td>2019-06-03 12:35:41.350</td>\n",
       "    </tr>\n",
       "  </tbody>\n",
       "</table>\n",
       "</div>"
      ],
      "text/plain": [
       "     guid  uid                               name  bike  spot  cityguid  \\\n",
       "0    2215   40           NH-Hotel / Hansa Str. 43     0     1        75   \n",
       "1  327398   40           NH-Hotel / Hansa Str. 43     0     1        75   \n",
       "2    6997   46  4260 - Südbahnhof / Hedderichstr.     0     1       169   \n",
       "3  328767   46  4260 - Südbahnhof / Hedderichstr.     0     1       169   \n",
       "4    2216   73               Bf. Dresden-Neustadt     0     1        75   \n",
       "\n",
       "         lat        lng                  created              disappeared  \n",
       "0  51.074133  13.738875  2019-05-23 20:08:47.487  2019-06-03 12:35:41.190  \n",
       "1  51.074133  13.738875  2019-06-03 12:35:41.340                      NaN  \n",
       "2  50.099555   8.685041  2019-05-23 20:18:33.007  2019-06-03 12:48:44.320  \n",
       "3  50.099555   8.685041  2019-06-03 12:48:44.443                      NaN  \n",
       "4  51.065184  13.741220  2019-05-23 20:08:47.520  2019-06-03 12:35:41.350  "
      ]
     },
     "execution_count": 11,
     "metadata": {},
     "output_type": "execute_result"
    }
   ],
   "source": [
    "places.head()"
   ]
  },
  {
   "attachments": {},
   "cell_type": "markdown",
   "metadata": {},
   "source": [
    "## Bikes\n",
    "- guid - unique id\n",
    "- number -  a bike number\n",
    "- placeguid - the station guid\n",
    "- appeared - when it appears on this station\n",
    "- disappeared - when the bike was taken from this station\n"
   ]
  },
  {
   "cell_type": "code",
   "execution_count": 15,
   "metadata": {},
   "outputs": [
    {
     "data": {
      "text/html": [
       "<div>\n",
       "<style scoped>\n",
       "    .dataframe tbody tr th:only-of-type {\n",
       "        vertical-align: middle;\n",
       "    }\n",
       "\n",
       "    .dataframe tbody tr th {\n",
       "        vertical-align: top;\n",
       "    }\n",
       "\n",
       "    .dataframe thead th {\n",
       "        text-align: right;\n",
       "    }\n",
       "</style>\n",
       "<table border=\"1\" class=\"dataframe\">\n",
       "  <thead>\n",
       "    <tr style=\"text-align: right;\">\n",
       "      <th></th>\n",
       "      <th>guid</th>\n",
       "      <th>number</th>\n",
       "      <th>placeguid</th>\n",
       "      <th>appeared</th>\n",
       "      <th>disappeared</th>\n",
       "    </tr>\n",
       "  </thead>\n",
       "  <tbody>\n",
       "    <tr>\n",
       "      <th>0</th>\n",
       "      <td>1495432</td>\n",
       "      <td>20</td>\n",
       "      <td>327819</td>\n",
       "      <td>2019-06-06 21:01:21.280</td>\n",
       "      <td>2019-06-10 02:03:03.823</td>\n",
       "    </tr>\n",
       "    <tr>\n",
       "      <th>1</th>\n",
       "      <td>6551701</td>\n",
       "      <td>20</td>\n",
       "      <td>327819</td>\n",
       "      <td>2019-07-19 12:03:22.150</td>\n",
       "      <td>2019-07-25 03:40:01.543</td>\n",
       "    </tr>\n",
       "    <tr>\n",
       "      <th>2</th>\n",
       "      <td>7163382</td>\n",
       "      <td>20</td>\n",
       "      <td>327819</td>\n",
       "      <td>2019-07-25 08:32:12.767</td>\n",
       "      <td>2019-07-26 01:13:25.603</td>\n",
       "    </tr>\n",
       "    <tr>\n",
       "      <th>3</th>\n",
       "      <td>12154095</td>\n",
       "      <td>20</td>\n",
       "      <td>4006865</td>\n",
       "      <td>2019-09-11 17:35:45.163</td>\n",
       "      <td>NaT</td>\n",
       "    </tr>\n",
       "    <tr>\n",
       "      <th>4</th>\n",
       "      <td>5276366</td>\n",
       "      <td>538</td>\n",
       "      <td>328956</td>\n",
       "      <td>2019-07-10 17:33:49.393</td>\n",
       "      <td>2019-07-11 15:33:53.713</td>\n",
       "    </tr>\n",
       "  </tbody>\n",
       "</table>\n",
       "</div>"
      ],
      "text/plain": [
       "       guid  number  placeguid                appeared             disappeared\n",
       "0   1495432      20     327819 2019-06-06 21:01:21.280 2019-06-10 02:03:03.823\n",
       "1   6551701      20     327819 2019-07-19 12:03:22.150 2019-07-25 03:40:01.543\n",
       "2   7163382      20     327819 2019-07-25 08:32:12.767 2019-07-26 01:13:25.603\n",
       "3  12154095      20    4006865 2019-09-11 17:35:45.163                     NaT\n",
       "4   5276366     538     328956 2019-07-10 17:33:49.393 2019-07-11 15:33:53.713"
      ]
     },
     "execution_count": 15,
     "metadata": {},
     "output_type": "execute_result"
    }
   ],
   "source": [
    "bikes_data.head()"
   ]
  },
  {
   "attachments": {},
   "cell_type": "markdown",
   "metadata": {},
   "source": [
    "# Example data"
   ]
  },
  {
   "cell_type": "code",
   "execution_count": 62,
   "metadata": {},
   "outputs": [],
   "source": [
    "berlin_guid = 144\n",
    "warsaw_guid = 67"
   ]
  },
  {
   "attachments": {},
   "cell_type": "markdown",
   "metadata": {},
   "source": [
    "## Data for Warsaw in june"
   ]
  },
  {
   "cell_type": "code",
   "execution_count": 64,
   "metadata": {},
   "outputs": [
    {
     "data": {
      "text/plain": [
       "2162410"
      ]
     },
     "execution_count": 64,
     "metadata": {},
     "output_type": "execute_result"
    }
   ],
   "source": [
    "len(warsaw_bikes)"
   ]
  },
  {
   "cell_type": "code",
   "execution_count": 65,
   "metadata": {},
   "outputs": [
    {
     "name": "stderr",
     "output_type": "stream",
     "text": [
      "100%|██████████| 249864/249864 [07:55<00:00, 525.76it/s]\n"
     ]
    },
    {
     "data": {
      "text/plain": [
       "number_of_bikes\n",
       "0.0                20977\n",
       "2.0                15052\n",
       "1.0                14290\n",
       "3.0                14043\n",
       "4.0                13092\n",
       "                   ...  \n",
       "86.0                   1\n",
       "132.0                  1\n",
       "136.0                  1\n",
       "99.0                   1\n",
       "113.0                  1\n",
       "Length: 139, dtype: int64"
      ]
     },
     "execution_count": 65,
     "metadata": {},
     "output_type": "execute_result"
    }
   ],
   "source": [
    "warsaw_bikes = get_data_from_city(warsaw_guid)\n",
    "june_index = get_time_index(datetime.strptime('01-06-2019','%d-%m-%Y'),datetime.strptime('30-06-2019','%d-%m-%Y'),60)\n",
    "res = prepere_data(warsaw_bikes,june_index)\n",
    "res.to_csv(os.path.join(folder, 'Warsaw_june_results.csv'))"
   ]
  },
  {
   "cell_type": "code",
   "execution_count": 68,
   "metadata": {},
   "outputs": [],
   "source": []
  },
  {
   "cell_type": "markdown",
   "metadata": {},
   "source": [
    "## Data Berlin"
   ]
  },
  {
   "cell_type": "code",
   "execution_count": 69,
   "metadata": {},
   "outputs": [
    {
     "name": "stderr",
     "output_type": "stream",
     "text": [
      "100%|██████████| 421416/421416 [06:11<00:00, 1134.91it/s]\n"
     ]
    }
   ],
   "source": [
    "berlin_bikes = get_data_from_city(berlin_guid)\n",
    "one_day_index = get_time_index(datetime.strptime('01-06-2019','%d-%m-%Y'),datetime.strptime('04-06-2019','%d-%m-%Y'),60)\n",
    "res = prepere_data(berlin_bikes,one_day_index)\n",
    "res.to_csv(os.path.join(folder, 'Berlin_3_days_results.csv'))"
   ]
  },
  {
   "attachments": {},
   "cell_type": "markdown",
   "metadata": {},
   "source": [
    "# new data - can be ignored for now"
   ]
  },
  {
   "cell_type": "code",
   "execution_count": 128,
   "metadata": {},
   "outputs": [],
   "source": [
    "with open(os.path.join(folder,'response_berlin.json'),encoding=\"utf8\") as f:\n",
    "    data = json.loads(f.read())"
   ]
  },
  {
   "cell_type": "code",
   "execution_count": 129,
   "metadata": {},
   "outputs": [],
   "source": [
    "bikes_dict = {}\n",
    "for station in data['countries'][0]['cities'][0]['places']:\n",
    "   bikes_dict.update(dict(zip(station['bike_numbers'],[station['uid']]*station['bikes'])))\n"
   ]
  },
  {
   "cell_type": "code",
   "execution_count": 130,
   "metadata": {},
   "outputs": [],
   "source": [
    "with open(os.path.join(folder,'response_berlin2.json'),encoding=\"utf8\") as f:\n",
    "    data2 = json.loads(f.read())"
   ]
  },
  {
   "cell_type": "code",
   "execution_count": 131,
   "metadata": {},
   "outputs": [],
   "source": [
    "bikes_dict2 = {}\n",
    "for station in data2['countries'][0]['cities'][0]['places']:\n",
    "   bikes_dict2.update(dict(zip(station['bike_numbers'],[station['uid']]*station['bikes'])))"
   ]
  },
  {
   "cell_type": "code",
   "execution_count": 133,
   "metadata": {},
   "outputs": [
    {
     "data": {
      "text/plain": [
       "39"
      ]
     },
     "execution_count": 133,
     "metadata": {},
     "output_type": "execute_result"
    }
   ],
   "source": [
    "len({ k : bikes_dict2[k] for k in set(bikes_dict2) - set(bikes_dict) })"
   ]
  },
  {
   "cell_type": "code",
   "execution_count": 141,
   "metadata": {},
   "outputs": [],
   "source": [
    "bikes_avaiable = pd.DataFrame(columns = ['number_of_bikes'])\n",
    "for station in data['countries'][0]['cities'][0]['places']:\n",
    "    bikes_avaiable.loc[station['uid'],'number_of_bikes'] = station['bikes']"
   ]
  },
  {
   "cell_type": "code",
   "execution_count": 150,
   "metadata": {},
   "outputs": [
    {
     "data": {
      "text/plain": [
       "21"
      ]
     },
     "execution_count": 150,
     "metadata": {},
     "output_type": "execute_result"
    }
   ],
   "source": [
    "max(bikes_avaiable['number_of_bikes'])"
   ]
  }
 ],
 "metadata": {
  "kernelspec": {
   "display_name": "base",
   "language": "python",
   "name": "python3"
  },
  "language_info": {
   "codemirror_mode": {
    "name": "ipython",
    "version": 3
   },
   "file_extension": ".py",
   "mimetype": "text/x-python",
   "name": "python",
   "nbconvert_exporter": "python",
   "pygments_lexer": "ipython3",
   "version": "3.9.7"
  },
  "orig_nbformat": 4,
  "vscode": {
   "interpreter": {
    "hash": "92aa240e57bf11889a8c4bac914ef3c0c28ae8ce2ecc8cb9eb0b157bd0108e95"
   }
  }
 },
 "nbformat": 4,
 "nbformat_minor": 2
}
