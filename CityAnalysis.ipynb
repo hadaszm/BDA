{
 "cells": [
  {
   "cell_type": "code",
   "execution_count": 4,
   "id": "obvious-doctor",
   "metadata": {},
   "outputs": [],
   "source": [
    "from API import get_data_from_api\n",
    "import pandas as pd\n",
    "import matplotlib.pyplot as plt\n",
    "import seaborn as sns\n",
    "import numpy as np\n",
    "import plotly.express as px\n",
    "plt.rcParams['figure.figsize'] = 16,9\n",
    "plt.rcParams['font.size'] = 18"
   ]
  },
  {
   "cell_type": "markdown",
   "id": "following-arctic",
   "metadata": {},
   "source": [
    "### Wizualizacja użycia systemu wypożyczeń w skali jednego miasta"
   ]
  },
  {
   "cell_type": "code",
   "execution_count": 5,
   "id": "vital-pointer",
   "metadata": {},
   "outputs": [],
   "source": [
    "cityname = \"Karlsruhe\""
   ]
  },
  {
   "cell_type": "markdown",
   "id": "electrical-communist",
   "metadata": {},
   "source": [
    "#### Funkcja wyznaczająca statystyki wypożyczeń w czasie\n",
    "\n",
    "Pole `valid` oznacza czy w wynikowej ramce danych dany wiersz powinien być brany pod uwagę w analizie. Jeśli porównywane rekordy pochodzą z różnych stacji bądź czas między ich pobraniem wyniósł więcej niż 10 minut, pole przyjmuje wartość `False`"
   ]
  },
  {
   "cell_type": "code",
   "execution_count": 6,
   "id": "verbal-miniature",
   "metadata": {},
   "outputs": [],
   "source": [
    "def calculate_usage(x):\n",
    "    s1 = set(x['bike_numbers'])\n",
    "    s2 = set(x['bike_numbers_shifted'])\n",
    "    time_diff_validation = (x['timestamp'] - x['timestamp_shifted']) < pd.Timedelta(minutes=10)\n",
    "    return_dict = {'timestamp_start': x['timestamp_shifted'],\n",
    "                   'timestamp_end': x['timestamp'],\n",
    "                   'uid': x['uid'],\n",
    "                   'lat': x['lat'],\n",
    "                   'lng': x['lng']}\n",
    "    if x['uid'] == x['uid_shifted']:\n",
    "        return_dict.update({'returned': len(s1-s2), 'collected': len(s2-s1), 'valid': time_diff_validation})\n",
    "    else:\n",
    "        return_dict.update({'returned': -1, 'collected': -1, 'valid': False})\n",
    "    return return_dict"
   ]
  },
  {
   "cell_type": "code",
   "execution_count": 7,
   "id": "broad-paintball",
   "metadata": {},
   "outputs": [],
   "source": [
    "def add_timestamp_to_dict(result):\n",
    "    timestamp = result.get('timestamp', pd.to_datetime('1970-01-01 00:00'))\n",
    "    result_list = result['countries']['cities']['places']\n",
    "    for d in result_list:\n",
    "        d['timestamp'] = timestamp\n",
    "    return result_list"
   ]
  },
  {
   "cell_type": "code",
   "execution_count": 8,
   "id": "automated-sleeve",
   "metadata": {},
   "outputs": [],
   "source": [
    "client = get_data_from_api.create_mong_client()"
   ]
  },
  {
   "cell_type": "code",
   "execution_count": 9,
   "id": "organic-pierre",
   "metadata": {},
   "outputs": [],
   "source": [
    "db = client['bda']"
   ]
  },
  {
   "cell_type": "code",
   "execution_count": 10,
   "id": "living-semiconductor",
   "metadata": {},
   "outputs": [
    {
     "data": {
      "text/plain": [
       "3883"
      ]
     },
     "execution_count": 10,
     "metadata": {},
     "output_type": "execute_result"
    }
   ],
   "source": [
    "db.bikes.count_documents({})"
   ]
  },
  {
   "cell_type": "code",
   "execution_count": 11,
   "id": "golden-shepherd",
   "metadata": {},
   "outputs": [],
   "source": [
    "record = db.bikes.find_one()"
   ]
  },
  {
   "cell_type": "code",
   "execution_count": 12,
   "id": "dominican-effectiveness",
   "metadata": {
    "scrolled": true
   },
   "outputs": [
    {
     "data": {
      "text/plain": [
       "[('nextbike Austria', 0),\n",
       " ('nextbike New Zealand', 2),\n",
       " ('nextbike Niederösterreich Austria', 17),\n",
       " ('nextbike Switzerland', 17),\n",
       " ('nextbike LV', 1),\n",
       " ('WRM nextbike Poland', 1),\n",
       " ('metropolradruhr Germany', 10),\n",
       " ('nextbike Cyprus', 3),\n",
       " ('PRM Poznan Poland', 0),\n",
       " ('Opole Bike Poland', 0),\n",
       " ('VETURILO Poland', 0),\n",
       " ('nextbike Stirling', 1),\n",
       " ('nextbike Croatia', 3),\n",
       " ('Demoland', 6),\n",
       " ('Stadtrad Innsbruck Austria', 1),\n",
       " ('Nextbike Poland ', 0),\n",
       " ('KVV.nextbike', 7),\n",
       " ('BIKER Białystok Poland', 1),\n",
       " ('BelfastBikes', 1),\n",
       " ('KRM Konstanciński Poland', 0),\n",
       " ('Grad Šibenik (Croatia)', 1),\n",
       " ('LRM Lublin Poland', 3),\n",
       " ('GRM Grodzisk Poland', 0),\n",
       " ('VRNnextbike', 22),\n",
       " ('nextbike Prostejov', 1),\n",
       " ('KVB Rad Germany', 1),\n",
       " ('nextbike (Ukraine)', 6),\n",
       " ('nextbike business Germany', 0),\n",
       " ('Katowice Bike Poland', 0),\n",
       " ('nextbike Malta', 1),\n",
       " ('Grad Karlovac (Croatia)', 1),\n",
       " ('Grad Slavonski Brod (Croatia)', 1),\n",
       " ('Heraeus Hanau', 1),\n",
       " ('nextbike Romania', 1),\n",
       " ('Santander Cycles - Milton Keynes', 1),\n",
       " ('nextbike Tirol Austria', 1),\n",
       " ('Grad Makarska (Croatia)', 1),\n",
       " ('Grad Vukovar (Croatia)', 1),\n",
       " ('Hvar', 1),\n",
       " ('Općina Brinje (Croatia)', 1),\n",
       " ('Grad Zadar (Croatia)', 1),\n",
       " ('nextbike BIH', 2),\n",
       " ('SWA Rad', 1),\n",
       " ('Grad Ivanić-Grad (Croatia)', 1),\n",
       " ('Bike_S SRM Poland', 1),\n",
       " ('Co-bikes', 4),\n",
       " ('nextbike Berlin', 2),\n",
       " ('nextbike Maastricht', 0),\n",
       " ('Citi Handlowy Bikes Poland', 0),\n",
       " ('nextbike Klagenfurt Austria', 1),\n",
       " ('Stalowa Wola miasto rowerów Poland', 0),\n",
       " ('Chartered Bike (Bhopal - India)', 0),\n",
       " ('Zgierski Rower Miejski Poland', 0),\n",
       " ('System Rowerów Miejskich w Pszczynie Poland', 0),\n",
       " ('Tyski Rower Miejski Poland', 0),\n",
       " ('Wheelchair Hospital Coventry', 0),\n",
       " ('nextbike Burgenland Austria', 1),\n",
       " ('Częstochowski Rower Miejski Poland', 0),\n",
       " ('Pruszkowski Rower Miejski Poland', 0),\n",
       " ('Siedlecki Rower Miejski Poland', 0),\n",
       " ('OK Bike Poland', 0),\n",
       " ('Arriva Nitra Slovakia', 1),\n",
       " ('Grad Sisak (Croatia)', 1),\n",
       " ('Grad Velika Gorica (Croatia)', 1),\n",
       " ('Kołobrzeski Rower Miejski Poland', 0),\n",
       " ('Grad Zaprešić (Croatia)', 1),\n",
       " ('Porec bike share (Croatia)', 1),\n",
       " ('Kaliski Rower Miejski Poland', 0),\n",
       " ('Grad Metković (Croatia)', 1),\n",
       " ('Jastrebarsko (Croatia)', 1),\n",
       " ('OVO Bikes Glasgow', 1),\n",
       " ('Rower Miejski Szamotuły Poland (RMS) Poland', 0),\n",
       " ('Rower Miejski w Ostrowie Wielkopolskim Poland', 0),\n",
       " ('nextbike Frankfurt', 1),\n",
       " ('nextbike Dordrecht', 1),\n",
       " ('Dundee-Navigogo ', 0),\n",
       " ('Piaseczyński Rower Miejski Poland', 0),\n",
       " ('Sitycleta (Las Palmas)', 1),\n",
       " ('nextbike Kassel', 1),\n",
       " ('nextbike Düsseldorf', 1),\n",
       " ('OVO Bikes Cardiff & Vale of Glamorgan', 2),\n",
       " ('Santander Cycles - Brunel', 1),\n",
       " ('University of Surrey', 1),\n",
       " ('Santander Cycles - Swansea', 1),\n",
       " ('nextbike Erfurt', 1),\n",
       " ('nextbike Gießen', 1),\n",
       " ('Koszaliński Rower Miejski Poland', 0),\n",
       " ('BL bike', 1),\n",
       " ('nextbike Lahr (Pedelecs)', 1),\n",
       " ('Sosnowiecki Rower Miejski Poland', 0),\n",
       " ('nextbike Leipzig', 1),\n",
       " ('Pobiedziski Rower Gminny Poland', 1),\n",
       " ('WK-Bike (Bremen)', 1),\n",
       " ('nextbike West Midlands', 0),\n",
       " ('nextbike Kyiv (Ukraine)', 0),\n",
       " ('Grad Drniš (Croatia)', 1),\n",
       " ('nextbike Ukraine Dummy Brand', 0),\n",
       " ('Siemianowicki Rower Miejski Poland', 0),\n",
       " ('Piotrkowski Rower Miejski Poland', 1),\n",
       " ('Płocki Rower Miejski (PRM) Poland', 0),\n",
       " ('Tychowski Rower Miejski Poland', 0),\n",
       " ('Otwocki Rower Miejski Poland', 0),\n",
       " ('Ciechanowski Rower Miejski Poland', 0),\n",
       " ('Koniński Rower Miejski Poland', 0),\n",
       " ('Zielonogórski Rower Miejski Poland', 0),\n",
       " ('Tarnowski Rower Miejski Poland', 0),\n",
       " ('Nomago Bikes - KOLESCE', 10),\n",
       " ('NEW MöBus nextbike', 1),\n",
       " ('Bonn nextbike', 1),\n",
       " ('Bilbaobizi (Bilbao)', 1),\n",
       " ('nextbike Lippstadt', 1),\n",
       " ('BikeKIA', 1),\n",
       " ('Kajteroz - Chorzowski Rower Miejski Poland', 0),\n",
       " ('nextbike Vinnitsa (Ukraine)', 1),\n",
       " ('Koło Marek Poland', 0),\n",
       " ('Żyrardowski Rower Miejski Poland', 0),\n",
       " ('Rowerowe Łódzkie Poland (RL)', 10),\n",
       " ('SAP Walldorf', 1),\n",
       " ('Općina Dugopolje (Croatia)', 0),\n",
       " ('Općina Pitomača (Croatia)', 1),\n",
       " ('Nomago Bikes -  LJUBLJANA', 1),\n",
       " ('System Roweru Gminnego Poland', 1),\n",
       " ('RVK', 1),\n",
       " ('Partnerzy Nextbike Polska', 1),\n",
       " ('Frelo Freiburg', 1),\n",
       " ('wupsiRad Leverkusen', 1),\n",
       " ('Lovesharing (Canary Islands)', 3),\n",
       " ('VAG_Rad', 1),\n",
       " ('Grad Split (Croatia)', 10),\n",
       " ('nextbike Ostrava', 3),\n",
       " ('Luboński Rower Miejski Poland', 0),\n",
       " ('ibizi', 1),\n",
       " ('Sprottenflotte', 5),\n",
       " ('sprintRAD', 1),\n",
       " ('Komornicki System Rowerowy Poland', 0),\n",
       " ('nextbike Havířov', 1),\n",
       " ('nextbike Berounsko', 1),\n",
       " ('Graben - ready4green', 1),\n",
       " ('Oleski Rower Miejski Poland', 1),\n",
       " ('Zenica', 1),\n",
       " ('Styr & Ställ (Sweden, Göteborg)', 1),\n",
       " ('nextbike Norderstedt', 1),\n",
       " ('Nibelungen-Bike', 1),\n",
       " ('Potsdam Rad', 1),\n",
       " ('nextbike Brno', 2),\n",
       " ('nextbike Praha', 2),\n",
       " ('nextbike Olomouc', 1),\n",
       " ('nextbike Kladno', 1),\n",
       " ('nextbike Opava', 1),\n",
       " ('meinSiggi', 1),\n",
       " ('YOY - San Luis Potosi', 2),\n",
       " ('Jurajski Rower (Poland)', 0),\n",
       " ('Bergisches e-Bike', 1),\n",
       " ('nextbike Pardubice', 1),\n",
       " ('nextbike Hradec Králové', 1),\n",
       " ('nextbike Marburg', 1),\n",
       " ('nextbike Gütersloh', 1),\n",
       " ('nextbike Quickborn', 1),\n",
       " ('nextbike Wiesbaden', 1),\n",
       " ('nextbike Offenburg', 1),\n",
       " ('nextbike Rüsselsheim am Main', 1),\n",
       " ('nextbike Würzburg', 1),\n",
       " ('nextbike Mladoboleslavsko', 2),\n",
       " ('MOBIbike', 1),\n",
       " ('Oeynrad', 1),\n",
       " ('Nextbike Polska', 0),\n",
       " ('RSVG-Bike', 1),\n",
       " ('city bike Linz', 1),\n",
       " ('Drobeta Velopark', 1),\n",
       " ('Nomago Bikes - GO2GO', 1),\n",
       " ('Saturn', 1),\n",
       " ('nextbike Frýdek-Místek', 1),\n",
       " ('nextbike León', 1),\n",
       " ('nextbike Uherské Hradiště', 1),\n",
       " ('nextbike Zlín', 1),\n",
       " ('Budva Bike Share', 0),\n",
       " ('nextbike Krnov', 1),\n",
       " ('Eifel e-Bike', 1),\n",
       " ('nextbike Rychnovsko', 1),\n",
       " ('nextbike Písek', 1),\n",
       " ('nextbike Jihlava', 1),\n",
       " ('Nomago Bikes - ZANAPREJ', 1),\n",
       " ('Rower Powiatowy Sokołów Podlaski', 1),\n",
       " ('nextbike Bergamo', 1),\n",
       " ('eMobi (Croatia)', 1),\n",
       " ('WienMobil Rad', 1),\n",
       " ('ARVAL', 1),\n",
       " ('BikeCity Campia Turzii', 1),\n",
       " ('OLi-Bike', 1),\n",
       " ('BBK Klimabizi', 1),\n",
       " ('nextbike Dvůr Králové', 1),\n",
       " ('VVT REGIORAD Tirol', 3),\n",
       " ('Chełmski Rower', 0),\n",
       " ('nextbike Vrchlabí', 1),\n",
       " ('WinsenRad', 1),\n",
       " ('ŁoKeR - Łomża', 0),\n",
       " ('Nomago Bikes - KRANJSKA GORA', 1),\n",
       " ('Nomago Bikes - PORTOROZ', 1),\n",
       " ('mobic', 1),\n",
       " ('westBike', 5),\n",
       " ('EDEKA Grünheide', 1),\n",
       " ('nextbike Erlangen', 1),\n",
       " ('Wolsztyński Rower Miejski', 0),\n",
       " ('GO2GO - Gorizia', 1)]"
      ]
     },
     "execution_count": 12,
     "metadata": {},
     "output_type": "execute_result"
    }
   ],
   "source": [
    "list(map(lambda x: (x['name'], len(x['cities'])), record['countries']))"
   ]
  },
  {
   "cell_type": "code",
   "execution_count": 13,
   "id": "smaller-mattress",
   "metadata": {},
   "outputs": [],
   "source": [
    "n_rows = 3859"
   ]
  },
  {
   "cell_type": "code",
   "execution_count": 14,
   "id": "military-mount",
   "metadata": {},
   "outputs": [],
   "source": [
    "r = db.bikes.aggregate([\n",
    "      {\"$unwind\":\"$countries\"},\n",
    "      {\"$unwind\":\"$countries.cities\"}, \n",
    "      {\"$match\":\n",
    "       {\"countries.cities.name\":cityname}\n",
    "      },\n",
    "      {'$limit': n_rows}\n",
    "])"
   ]
  },
  {
   "cell_type": "code",
   "execution_count": 15,
   "id": "allied-moral",
   "metadata": {},
   "outputs": [],
   "source": [
    "df = pd.concat([pd.DataFrame(add_timestamp_to_dict(r_t)) for r_t in r])"
   ]
  },
  {
   "cell_type": "code",
   "execution_count": 16,
   "id": "lasting-flower",
   "metadata": {},
   "outputs": [],
   "source": [
    "stations = df.uid.value_counts()[df.uid.value_counts()==n_rows].index"
   ]
  },
  {
   "cell_type": "code",
   "execution_count": 17,
   "id": "obvious-boston",
   "metadata": {},
   "outputs": [],
   "source": [
    "df = df.loc[df['uid'].isin(stations)]"
   ]
  },
  {
   "cell_type": "code",
   "execution_count": 18,
   "id": "utility-smell",
   "metadata": {},
   "outputs": [],
   "source": [
    "df = df.sort_values(['uid', 'timestamp']).reset_index(drop=True)\n",
    "df['bike_numbers_shifted'] = df['bike_numbers'].shift(1).combine(df['bike_numbers'], (lambda x, y: x if isinstance(x, list) else y))\n",
    "df['timestamp_shifted'] = df['timestamp'].shift(1, fill_value=pd.to_datetime('1970-01-01 00:00'))\n",
    "df['uid_shifted'] = df['uid'].shift(1, fill_value=-1)"
   ]
  },
  {
   "cell_type": "code",
   "execution_count": 19,
   "id": "strange-pharmaceutical",
   "metadata": {},
   "outputs": [],
   "source": [
    "x = df.apply(calculate_usage, axis=1, result_type='expand')"
   ]
  },
  {
   "cell_type": "code",
   "execution_count": 20,
   "id": "driven-spice",
   "metadata": {},
   "outputs": [
    {
     "data": {
      "image/png": "[encoded data removed]",
      "text/plain": [
       "<Figure size 1152x648 with 1 Axes>"
      ]
     },
     "metadata": {
      "needs_background": "light"
     },
     "output_type": "display_data"
    }
   ],
   "source": [
    "station_uid = 264394\n",
    "station_df = x.loc[(x.uid==station_uid) & x.valid,]\n",
    "fig, ax = plt.subplots()\n",
    "sns.scatterplot(x = 'timestamp_end', y='collected', data = station_df, label='Collected', ax=ax)\n",
    "sns.scatterplot(x = 'timestamp_end', y='returned', data = station_df, label='Returned', ax=ax)\n",
    "l = plt.legend()\n",
    "l.set_title(\"Bikes\")\n",
    "plt.yticks(np.arange(ax.get_yticks().min().round(), ax.get_yticks().max(), 2))\n",
    "plt.ylabel('Count')\n",
    "plt.xlabel('Date')\n",
    "plt.xticks(rotation=90)\n",
    "plt.title(f'Station ID={station_uid} bike rental statistics')\n",
    "plt.show()\n",
    "plt.show()"
   ]
  },
  {
   "cell_type": "code",
   "execution_count": 21,
   "id": "european-soviet",
   "metadata": {},
   "outputs": [
    {
     "data": {
      "text/plain": [
       "18"
      ]
     },
     "execution_count": 21,
     "metadata": {},
     "output_type": "execute_result"
    }
   ],
   "source": [
    "station_df.returned.max()"
   ]
  },
  {
   "cell_type": "code",
   "execution_count": 22,
   "id": "scientific-patch",
   "metadata": {},
   "outputs": [],
   "source": [
    "agg_x = x.loc[x.valid, :].groupby('timestamp_end').aggregate({'returned': 'sum', 'collected': 'sum'})"
   ]
  },
  {
   "cell_type": "code",
   "execution_count": 23,
   "id": "under-sweden",
   "metadata": {},
   "outputs": [
    {
     "data": {
      "image/png": "[encoded data removed]",
      "text/plain": [
       "<Figure size 1152x648 with 1 Axes>"
      ]
     },
     "metadata": {
      "needs_background": "light"
     },
     "output_type": "display_data"
    }
   ],
   "source": [
    "fig, ax = plt.subplots()\n",
    "sns.scatterplot(x = 'timestamp_end', y='collected', data = agg_x, label='Collected', ax=ax)\n",
    "sns.scatterplot(x = 'timestamp_end', y='returned', data = agg_x, label='Returned', ax=ax)\n",
    "l = plt.legend()\n",
    "l.set_title(\"Bikes\")\n",
    "plt.yticks(np.arange(ax.get_yticks().min().round(), ax.get_yticks().max(), 2))\n",
    "plt.ylabel('Count')\n",
    "plt.xlabel('Date')\n",
    "plt.xticks(rotation=90)\n",
    "plt.title(f'{cityname} bike rental statistics')\n",
    "plt.show()"
   ]
  },
  {
   "cell_type": "code",
   "execution_count": 24,
   "id": "supported-worker",
   "metadata": {},
   "outputs": [
    {
     "data": {
      "image/png": "[encoded data removed]",
      "text/plain": [
       "<Figure size 1152x648 with 1 Axes>"
      ]
     },
     "metadata": {
      "needs_background": "light"
     },
     "output_type": "display_data"
    }
   ],
   "source": [
    "station_importance = x.loc[x.valid].groupby('uid').agg(\n",
    "    {'collected': 'sum', 'returned': 'sum', 'timestamp_end': 'last', 'timestamp_start': 'first', 'lng': 'first', 'lat': 'first'}\n",
    ").reset_index()\n",
    "sns.barplot(x='uid', y='collected', data = station_importance)\n",
    "plt.xticks(rotation=90)\n",
    "plt.xlabel('Station ID')\n",
    "plt.ylabel('Bike collections')\n",
    "plt.title(f'Station importance {station_importance[\"timestamp_start\"].dt.date.iloc[0]} - {station_importance[\"timestamp_end\"].dt.date.iloc[0]}')\n",
    "plt.show()"
   ]
  },
  {
   "cell_type": "code",
   "execution_count": 25,
   "id": "amber-discrimination",
   "metadata": {
    "scrolled": true
   },
   "outputs": [
    {
     "data": {
      "text/html": [
       "<div>\n",
       "<style scoped>\n",
       "    .dataframe tbody tr th:only-of-type {\n",
       "        vertical-align: middle;\n",
       "    }\n",
       "\n",
       "    .dataframe tbody tr th {\n",
       "        vertical-align: top;\n",
       "    }\n",
       "\n",
       "    .dataframe thead th {\n",
       "        text-align: right;\n",
       "    }\n",
       "</style>\n",
       "<table border=\"1\" class=\"dataframe\">\n",
       "  <thead>\n",
       "    <tr style=\"text-align: right;\">\n",
       "      <th></th>\n",
       "      <th>uid</th>\n",
       "      <th>collected</th>\n",
       "      <th>returned</th>\n",
       "      <th>timestamp_end</th>\n",
       "      <th>timestamp_start</th>\n",
       "      <th>lng</th>\n",
       "      <th>lat</th>\n",
       "    </tr>\n",
       "  </thead>\n",
       "  <tbody>\n",
       "    <tr>\n",
       "      <th>0</th>\n",
       "      <td>458</td>\n",
       "      <td>19</td>\n",
       "      <td>20</td>\n",
       "      <td>2022-12-27 13:43:04.326</td>\n",
       "      <td>2022-12-19 09:24:06.679</td>\n",
       "      <td>8.402725</td>\n",
       "      <td>49.007126</td>\n",
       "    </tr>\n",
       "    <tr>\n",
       "      <th>1</th>\n",
       "      <td>1390</td>\n",
       "      <td>45</td>\n",
       "      <td>46</td>\n",
       "      <td>2022-12-27 13:43:04.326</td>\n",
       "      <td>2022-12-19 09:24:06.679</td>\n",
       "      <td>8.395077</td>\n",
       "      <td>49.008694</td>\n",
       "    </tr>\n",
       "    <tr>\n",
       "      <th>2</th>\n",
       "      <td>264394</td>\n",
       "      <td>384</td>\n",
       "      <td>465</td>\n",
       "      <td>2022-12-27 13:43:04.326</td>\n",
       "      <td>2022-12-19 09:24:06.679</td>\n",
       "      <td>8.400361</td>\n",
       "      <td>48.994617</td>\n",
       "    </tr>\n",
       "    <tr>\n",
       "      <th>3</th>\n",
       "      <td>264579</td>\n",
       "      <td>16</td>\n",
       "      <td>17</td>\n",
       "      <td>2022-12-27 13:43:04.326</td>\n",
       "      <td>2022-12-19 09:24:06.679</td>\n",
       "      <td>8.453540</td>\n",
       "      <td>49.027000</td>\n",
       "    </tr>\n",
       "    <tr>\n",
       "      <th>4</th>\n",
       "      <td>280249</td>\n",
       "      <td>45</td>\n",
       "      <td>44</td>\n",
       "      <td>2022-12-27 13:43:04.326</td>\n",
       "      <td>2022-12-19 09:24:06.679</td>\n",
       "      <td>8.395102</td>\n",
       "      <td>49.010834</td>\n",
       "    </tr>\n",
       "    <tr>\n",
       "      <th>5</th>\n",
       "      <td>280250</td>\n",
       "      <td>5</td>\n",
       "      <td>5</td>\n",
       "      <td>2022-12-27 13:43:04.326</td>\n",
       "      <td>2022-12-19 09:24:06.679</td>\n",
       "      <td>8.393548</td>\n",
       "      <td>48.997704</td>\n",
       "    </tr>\n",
       "    <tr>\n",
       "      <th>6</th>\n",
       "      <td>280251</td>\n",
       "      <td>10</td>\n",
       "      <td>10</td>\n",
       "      <td>2022-12-27 13:43:04.326</td>\n",
       "      <td>2022-12-19 09:24:06.679</td>\n",
       "      <td>8.388213</td>\n",
       "      <td>49.010063</td>\n",
       "    </tr>\n",
       "    <tr>\n",
       "      <th>7</th>\n",
       "      <td>280253</td>\n",
       "      <td>52</td>\n",
       "      <td>54</td>\n",
       "      <td>2022-12-27 13:43:04.326</td>\n",
       "      <td>2022-12-19 09:24:06.679</td>\n",
       "      <td>8.423453</td>\n",
       "      <td>49.011246</td>\n",
       "    </tr>\n",
       "    <tr>\n",
       "      <th>8</th>\n",
       "      <td>280255</td>\n",
       "      <td>28</td>\n",
       "      <td>27</td>\n",
       "      <td>2022-12-27 13:43:04.326</td>\n",
       "      <td>2022-12-19 09:24:06.679</td>\n",
       "      <td>8.431732</td>\n",
       "      <td>49.006073</td>\n",
       "    </tr>\n",
       "    <tr>\n",
       "      <th>9</th>\n",
       "      <td>280258</td>\n",
       "      <td>16</td>\n",
       "      <td>14</td>\n",
       "      <td>2022-12-27 13:43:04.326</td>\n",
       "      <td>2022-12-19 09:24:06.679</td>\n",
       "      <td>8.394901</td>\n",
       "      <td>49.005444</td>\n",
       "    </tr>\n",
       "    <tr>\n",
       "      <th>10</th>\n",
       "      <td>280259</td>\n",
       "      <td>23</td>\n",
       "      <td>22</td>\n",
       "      <td>2022-12-27 13:43:04.326</td>\n",
       "      <td>2022-12-19 09:24:06.679</td>\n",
       "      <td>8.405775</td>\n",
       "      <td>49.001464</td>\n",
       "    </tr>\n",
       "    <tr>\n",
       "      <th>11</th>\n",
       "      <td>280260</td>\n",
       "      <td>9</td>\n",
       "      <td>17</td>\n",
       "      <td>2022-12-27 13:43:04.326</td>\n",
       "      <td>2022-12-19 09:24:06.679</td>\n",
       "      <td>8.375981</td>\n",
       "      <td>49.030205</td>\n",
       "    </tr>\n",
       "    <tr>\n",
       "      <th>12</th>\n",
       "      <td>280261</td>\n",
       "      <td>1</td>\n",
       "      <td>1</td>\n",
       "      <td>2022-12-27 13:43:04.326</td>\n",
       "      <td>2022-12-19 09:24:06.679</td>\n",
       "      <td>8.341402</td>\n",
       "      <td>49.030727</td>\n",
       "    </tr>\n",
       "    <tr>\n",
       "      <th>13</th>\n",
       "      <td>280262</td>\n",
       "      <td>35</td>\n",
       "      <td>44</td>\n",
       "      <td>2022-12-27 13:43:04.326</td>\n",
       "      <td>2022-12-19 09:24:06.679</td>\n",
       "      <td>8.445234</td>\n",
       "      <td>49.035168</td>\n",
       "    </tr>\n",
       "    <tr>\n",
       "      <th>14</th>\n",
       "      <td>280263</td>\n",
       "      <td>19</td>\n",
       "      <td>24</td>\n",
       "      <td>2022-12-27 13:43:04.326</td>\n",
       "      <td>2022-12-19 09:24:06.679</td>\n",
       "      <td>8.444946</td>\n",
       "      <td>49.025825</td>\n",
       "    </tr>\n",
       "    <tr>\n",
       "      <th>15</th>\n",
       "      <td>280322</td>\n",
       "      <td>89</td>\n",
       "      <td>90</td>\n",
       "      <td>2022-12-27 13:43:04.326</td>\n",
       "      <td>2022-12-19 09:24:06.679</td>\n",
       "      <td>8.417748</td>\n",
       "      <td>49.011085</td>\n",
       "    </tr>\n",
       "    <tr>\n",
       "      <th>16</th>\n",
       "      <td>281794</td>\n",
       "      <td>4</td>\n",
       "      <td>5</td>\n",
       "      <td>2022-12-27 13:43:04.326</td>\n",
       "      <td>2022-12-19 09:24:06.679</td>\n",
       "      <td>8.386003</td>\n",
       "      <td>49.003319</td>\n",
       "    </tr>\n",
       "    <tr>\n",
       "      <th>17</th>\n",
       "      <td>285510</td>\n",
       "      <td>56</td>\n",
       "      <td>49</td>\n",
       "      <td>2022-12-27 13:43:04.326</td>\n",
       "      <td>2022-12-19 09:24:06.679</td>\n",
       "      <td>8.420012</td>\n",
       "      <td>49.015317</td>\n",
       "    </tr>\n",
       "    <tr>\n",
       "      <th>18</th>\n",
       "      <td>289942</td>\n",
       "      <td>16</td>\n",
       "      <td>19</td>\n",
       "      <td>2022-12-27 13:43:04.326</td>\n",
       "      <td>2022-12-19 09:24:06.679</td>\n",
       "      <td>8.463035</td>\n",
       "      <td>49.001548</td>\n",
       "    </tr>\n",
       "    <tr>\n",
       "      <th>19</th>\n",
       "      <td>289944</td>\n",
       "      <td>4</td>\n",
       "      <td>5</td>\n",
       "      <td>2022-12-27 13:43:04.326</td>\n",
       "      <td>2022-12-19 09:24:06.679</td>\n",
       "      <td>8.463206</td>\n",
       "      <td>48.995945</td>\n",
       "    </tr>\n",
       "    <tr>\n",
       "      <th>20</th>\n",
       "      <td>289946</td>\n",
       "      <td>6</td>\n",
       "      <td>6</td>\n",
       "      <td>2022-12-27 13:43:04.326</td>\n",
       "      <td>2022-12-19 09:24:06.679</td>\n",
       "      <td>8.473495</td>\n",
       "      <td>48.998944</td>\n",
       "    </tr>\n",
       "    <tr>\n",
       "      <th>21</th>\n",
       "      <td>297942</td>\n",
       "      <td>55</td>\n",
       "      <td>54</td>\n",
       "      <td>2022-12-27 13:43:04.326</td>\n",
       "      <td>2022-12-19 09:24:06.679</td>\n",
       "      <td>8.409262</td>\n",
       "      <td>49.011598</td>\n",
       "    </tr>\n",
       "    <tr>\n",
       "      <th>22</th>\n",
       "      <td>300645</td>\n",
       "      <td>248</td>\n",
       "      <td>250</td>\n",
       "      <td>2022-12-27 13:43:04.326</td>\n",
       "      <td>2022-12-19 09:24:06.679</td>\n",
       "      <td>8.421450</td>\n",
       "      <td>49.019967</td>\n",
       "    </tr>\n",
       "    <tr>\n",
       "      <th>23</th>\n",
       "      <td>367726</td>\n",
       "      <td>67</td>\n",
       "      <td>59</td>\n",
       "      <td>2022-12-27 13:43:04.326</td>\n",
       "      <td>2022-12-19 09:24:06.679</td>\n",
       "      <td>8.431170</td>\n",
       "      <td>49.021069</td>\n",
       "    </tr>\n",
       "    <tr>\n",
       "      <th>24</th>\n",
       "      <td>392504</td>\n",
       "      <td>45</td>\n",
       "      <td>34</td>\n",
       "      <td>2022-12-27 13:43:04.326</td>\n",
       "      <td>2022-12-19 09:24:06.679</td>\n",
       "      <td>8.405018</td>\n",
       "      <td>49.010687</td>\n",
       "    </tr>\n",
       "    <tr>\n",
       "      <th>25</th>\n",
       "      <td>462159</td>\n",
       "      <td>4</td>\n",
       "      <td>1</td>\n",
       "      <td>2022-12-27 13:43:04.326</td>\n",
       "      <td>2022-12-19 09:24:06.679</td>\n",
       "      <td>8.362634</td>\n",
       "      <td>48.985681</td>\n",
       "    </tr>\n",
       "    <tr>\n",
       "      <th>26</th>\n",
       "      <td>462165</td>\n",
       "      <td>8</td>\n",
       "      <td>7</td>\n",
       "      <td>2022-12-27 13:43:04.326</td>\n",
       "      <td>2022-12-19 09:24:06.679</td>\n",
       "      <td>8.404670</td>\n",
       "      <td>48.971175</td>\n",
       "    </tr>\n",
       "    <tr>\n",
       "      <th>27</th>\n",
       "      <td>462174</td>\n",
       "      <td>16</td>\n",
       "      <td>10</td>\n",
       "      <td>2022-12-27 13:43:04.326</td>\n",
       "      <td>2022-12-19 09:24:06.679</td>\n",
       "      <td>8.379993</td>\n",
       "      <td>48.988131</td>\n",
       "    </tr>\n",
       "    <tr>\n",
       "      <th>28</th>\n",
       "      <td>462175</td>\n",
       "      <td>13</td>\n",
       "      <td>9</td>\n",
       "      <td>2022-12-27 13:43:04.326</td>\n",
       "      <td>2022-12-19 09:24:06.679</td>\n",
       "      <td>8.378644</td>\n",
       "      <td>49.047159</td>\n",
       "    </tr>\n",
       "    <tr>\n",
       "      <th>29</th>\n",
       "      <td>462176</td>\n",
       "      <td>2</td>\n",
       "      <td>1</td>\n",
       "      <td>2022-12-27 13:43:04.326</td>\n",
       "      <td>2022-12-19 09:24:06.679</td>\n",
       "      <td>8.354738</td>\n",
       "      <td>49.009628</td>\n",
       "    </tr>\n",
       "    <tr>\n",
       "      <th>30</th>\n",
       "      <td>462181</td>\n",
       "      <td>0</td>\n",
       "      <td>0</td>\n",
       "      <td>2022-12-27 13:43:04.326</td>\n",
       "      <td>2022-12-19 09:24:06.679</td>\n",
       "      <td>8.343560</td>\n",
       "      <td>49.007101</td>\n",
       "    </tr>\n",
       "    <tr>\n",
       "      <th>31</th>\n",
       "      <td>6352777</td>\n",
       "      <td>12</td>\n",
       "      <td>12</td>\n",
       "      <td>2022-12-27 13:43:04.326</td>\n",
       "      <td>2022-12-19 09:24:06.679</td>\n",
       "      <td>8.364190</td>\n",
       "      <td>49.002291</td>\n",
       "    </tr>\n",
       "    <tr>\n",
       "      <th>32</th>\n",
       "      <td>6352822</td>\n",
       "      <td>1</td>\n",
       "      <td>0</td>\n",
       "      <td>2022-12-27 13:43:04.326</td>\n",
       "      <td>2022-12-19 09:24:06.679</td>\n",
       "      <td>8.350328</td>\n",
       "      <td>49.012277</td>\n",
       "    </tr>\n",
       "    <tr>\n",
       "      <th>33</th>\n",
       "      <td>9016629</td>\n",
       "      <td>0</td>\n",
       "      <td>0</td>\n",
       "      <td>2022-12-27 13:43:04.326</td>\n",
       "      <td>2022-12-19 09:24:06.679</td>\n",
       "      <td>8.306225</td>\n",
       "      <td>49.035623</td>\n",
       "    </tr>\n",
       "    <tr>\n",
       "      <th>34</th>\n",
       "      <td>9016659</td>\n",
       "      <td>2</td>\n",
       "      <td>1</td>\n",
       "      <td>2022-12-27 13:43:04.326</td>\n",
       "      <td>2022-12-19 09:24:06.679</td>\n",
       "      <td>8.352434</td>\n",
       "      <td>49.014929</td>\n",
       "    </tr>\n",
       "    <tr>\n",
       "      <th>35</th>\n",
       "      <td>10804769</td>\n",
       "      <td>9</td>\n",
       "      <td>12</td>\n",
       "      <td>2022-12-27 13:43:04.326</td>\n",
       "      <td>2022-12-19 09:24:06.679</td>\n",
       "      <td>8.387375</td>\n",
       "      <td>49.052270</td>\n",
       "    </tr>\n",
       "    <tr>\n",
       "      <th>36</th>\n",
       "      <td>28894952</td>\n",
       "      <td>13</td>\n",
       "      <td>12</td>\n",
       "      <td>2022-12-27 13:43:04.326</td>\n",
       "      <td>2022-12-19 09:24:06.679</td>\n",
       "      <td>8.400827</td>\n",
       "      <td>49.004327</td>\n",
       "    </tr>\n",
       "    <tr>\n",
       "      <th>37</th>\n",
       "      <td>28894975</td>\n",
       "      <td>6</td>\n",
       "      <td>4</td>\n",
       "      <td>2022-12-27 13:43:04.326</td>\n",
       "      <td>2022-12-19 09:24:06.679</td>\n",
       "      <td>8.425673</td>\n",
       "      <td>49.005355</td>\n",
       "    </tr>\n",
       "    <tr>\n",
       "      <th>38</th>\n",
       "      <td>37983357</td>\n",
       "      <td>22</td>\n",
       "      <td>21</td>\n",
       "      <td>2022-12-27 13:43:04.326</td>\n",
       "      <td>2022-12-19 09:24:06.679</td>\n",
       "      <td>8.417718</td>\n",
       "      <td>49.010664</td>\n",
       "    </tr>\n",
       "    <tr>\n",
       "      <th>39</th>\n",
       "      <td>37983402</td>\n",
       "      <td>31</td>\n",
       "      <td>29</td>\n",
       "      <td>2022-12-27 13:43:04.326</td>\n",
       "      <td>2022-12-19 09:24:06.679</td>\n",
       "      <td>8.389091</td>\n",
       "      <td>49.021154</td>\n",
       "    </tr>\n",
       "    <tr>\n",
       "      <th>40</th>\n",
       "      <td>37983419</td>\n",
       "      <td>22</td>\n",
       "      <td>27</td>\n",
       "      <td>2022-12-27 13:43:04.326</td>\n",
       "      <td>2022-12-19 09:24:06.679</td>\n",
       "      <td>8.433563</td>\n",
       "      <td>49.036465</td>\n",
       "    </tr>\n",
       "    <tr>\n",
       "      <th>41</th>\n",
       "      <td>50819425</td>\n",
       "      <td>66</td>\n",
       "      <td>64</td>\n",
       "      <td>2022-12-27 13:43:04.326</td>\n",
       "      <td>2022-12-19 09:24:06.679</td>\n",
       "      <td>8.390915</td>\n",
       "      <td>49.016292</td>\n",
       "    </tr>\n",
       "    <tr>\n",
       "      <th>42</th>\n",
       "      <td>50819438</td>\n",
       "      <td>42</td>\n",
       "      <td>37</td>\n",
       "      <td>2022-12-27 13:43:04.326</td>\n",
       "      <td>2022-12-19 09:24:06.679</td>\n",
       "      <td>8.390374</td>\n",
       "      <td>49.014744</td>\n",
       "    </tr>\n",
       "    <tr>\n",
       "      <th>43</th>\n",
       "      <td>52355370</td>\n",
       "      <td>3</td>\n",
       "      <td>4</td>\n",
       "      <td>2022-12-27 13:43:04.326</td>\n",
       "      <td>2022-12-19 09:24:06.679</td>\n",
       "      <td>8.367536</td>\n",
       "      <td>49.005747</td>\n",
       "    </tr>\n",
       "    <tr>\n",
       "      <th>44</th>\n",
       "      <td>52997350</td>\n",
       "      <td>6</td>\n",
       "      <td>8</td>\n",
       "      <td>2022-12-27 13:43:04.326</td>\n",
       "      <td>2022-12-19 09:24:06.679</td>\n",
       "      <td>8.403352</td>\n",
       "      <td>48.980858</td>\n",
       "    </tr>\n",
       "    <tr>\n",
       "      <th>45</th>\n",
       "      <td>52999116</td>\n",
       "      <td>7</td>\n",
       "      <td>5</td>\n",
       "      <td>2022-12-27 13:43:04.326</td>\n",
       "      <td>2022-12-19 09:24:06.679</td>\n",
       "      <td>8.377506</td>\n",
       "      <td>49.005416</td>\n",
       "    </tr>\n",
       "    <tr>\n",
       "      <th>46</th>\n",
       "      <td>53001693</td>\n",
       "      <td>81</td>\n",
       "      <td>78</td>\n",
       "      <td>2022-12-27 13:43:04.326</td>\n",
       "      <td>2022-12-19 09:24:06.679</td>\n",
       "      <td>8.375049</td>\n",
       "      <td>49.018978</td>\n",
       "    </tr>\n",
       "    <tr>\n",
       "      <th>47</th>\n",
       "      <td>53171791</td>\n",
       "      <td>7</td>\n",
       "      <td>3</td>\n",
       "      <td>2022-12-27 13:43:04.326</td>\n",
       "      <td>2022-12-19 09:24:06.679</td>\n",
       "      <td>8.384746</td>\n",
       "      <td>48.998374</td>\n",
       "    </tr>\n",
       "    <tr>\n",
       "      <th>48</th>\n",
       "      <td>54869634</td>\n",
       "      <td>0</td>\n",
       "      <td>2</td>\n",
       "      <td>2022-12-27 13:43:04.326</td>\n",
       "      <td>2022-12-19 09:24:06.679</td>\n",
       "      <td>8.335844</td>\n",
       "      <td>49.035362</td>\n",
       "    </tr>\n",
       "    <tr>\n",
       "      <th>49</th>\n",
       "      <td>55113155</td>\n",
       "      <td>2</td>\n",
       "      <td>4</td>\n",
       "      <td>2022-12-27 13:43:04.326</td>\n",
       "      <td>2022-12-19 09:24:06.679</td>\n",
       "      <td>8.344573</td>\n",
       "      <td>49.031022</td>\n",
       "    </tr>\n",
       "    <tr>\n",
       "      <th>50</th>\n",
       "      <td>78970799</td>\n",
       "      <td>1</td>\n",
       "      <td>1</td>\n",
       "      <td>2022-12-27 13:43:04.326</td>\n",
       "      <td>2022-12-19 09:24:06.679</td>\n",
       "      <td>8.461833</td>\n",
       "      <td>49.002762</td>\n",
       "    </tr>\n",
       "  </tbody>\n",
       "</table>\n",
       "</div>"
      ],
      "text/plain": [
       "         uid  collected  returned           timestamp_end  \\\n",
       "0        458         19        20 2022-12-27 13:43:04.326   \n",
       "1       1390         45        46 2022-12-27 13:43:04.326   \n",
       "2     264394        384       465 2022-12-27 13:43:04.326   \n",
       "3     264579         16        17 2022-12-27 13:43:04.326   \n",
       "4     280249         45        44 2022-12-27 13:43:04.326   \n",
       "5     280250          5         5 2022-12-27 13:43:04.326   \n",
       "6     280251         10        10 2022-12-27 13:43:04.326   \n",
       "7     280253         52        54 2022-12-27 13:43:04.326   \n",
       "8     280255         28        27 2022-12-27 13:43:04.326   \n",
       "9     280258         16        14 2022-12-27 13:43:04.326   \n",
       "10    280259         23        22 2022-12-27 13:43:04.326   \n",
       "11    280260          9        17 2022-12-27 13:43:04.326   \n",
       "12    280261          1         1 2022-12-27 13:43:04.326   \n",
       "13    280262         35        44 2022-12-27 13:43:04.326   \n",
       "14    280263         19        24 2022-12-27 13:43:04.326   \n",
       "15    280322         89        90 2022-12-27 13:43:04.326   \n",
       "16    281794          4         5 2022-12-27 13:43:04.326   \n",
       "17    285510         56        49 2022-12-27 13:43:04.326   \n",
       "18    289942         16        19 2022-12-27 13:43:04.326   \n",
       "19    289944          4         5 2022-12-27 13:43:04.326   \n",
       "20    289946          6         6 2022-12-27 13:43:04.326   \n",
       "21    297942         55        54 2022-12-27 13:43:04.326   \n",
       "22    300645        248       250 2022-12-27 13:43:04.326   \n",
       "23    367726         67        59 2022-12-27 13:43:04.326   \n",
       "24    392504         45        34 2022-12-27 13:43:04.326   \n",
       "25    462159          4         1 2022-12-27 13:43:04.326   \n",
       "26    462165          8         7 2022-12-27 13:43:04.326   \n",
       "27    462174         16        10 2022-12-27 13:43:04.326   \n",
       "28    462175         13         9 2022-12-27 13:43:04.326   \n",
       "29    462176          2         1 2022-12-27 13:43:04.326   \n",
       "30    462181          0         0 2022-12-27 13:43:04.326   \n",
       "31   6352777         12        12 2022-12-27 13:43:04.326   \n",
       "32   6352822          1         0 2022-12-27 13:43:04.326   \n",
       "33   9016629          0         0 2022-12-27 13:43:04.326   \n",
       "34   9016659          2         1 2022-12-27 13:43:04.326   \n",
       "35  10804769          9        12 2022-12-27 13:43:04.326   \n",
       "36  28894952         13        12 2022-12-27 13:43:04.326   \n",
       "37  28894975          6         4 2022-12-27 13:43:04.326   \n",
       "38  37983357         22        21 2022-12-27 13:43:04.326   \n",
       "39  37983402         31        29 2022-12-27 13:43:04.326   \n",
       "40  37983419         22        27 2022-12-27 13:43:04.326   \n",
       "41  50819425         66        64 2022-12-27 13:43:04.326   \n",
       "42  50819438         42        37 2022-12-27 13:43:04.326   \n",
       "43  52355370          3         4 2022-12-27 13:43:04.326   \n",
       "44  52997350          6         8 2022-12-27 13:43:04.326   \n",
       "45  52999116          7         5 2022-12-27 13:43:04.326   \n",
       "46  53001693         81        78 2022-12-27 13:43:04.326   \n",
       "47  53171791          7         3 2022-12-27 13:43:04.326   \n",
       "48  54869634          0         2 2022-12-27 13:43:04.326   \n",
       "49  55113155          2         4 2022-12-27 13:43:04.326   \n",
       "50  78970799          1         1 2022-12-27 13:43:04.326   \n",
       "\n",
       "           timestamp_start       lng        lat  \n",
       "0  2022-12-19 09:24:06.679  8.402725  49.007126  \n",
       "1  2022-12-19 09:24:06.679  8.395077  49.008694  \n",
       "2  2022-12-19 09:24:06.679  8.400361  48.994617  \n",
       "3  2022-12-19 09:24:06.679  8.453540  49.027000  \n",
       "4  2022-12-19 09:24:06.679  8.395102  49.010834  \n",
       "5  2022-12-19 09:24:06.679  8.393548  48.997704  \n",
       "6  2022-12-19 09:24:06.679  8.388213  49.010063  \n",
       "7  2022-12-19 09:24:06.679  8.423453  49.011246  \n",
       "8  2022-12-19 09:24:06.679  8.431732  49.006073  \n",
       "9  2022-12-19 09:24:06.679  8.394901  49.005444  \n",
       "10 2022-12-19 09:24:06.679  8.405775  49.001464  \n",
       "11 2022-12-19 09:24:06.679  8.375981  49.030205  \n",
       "12 2022-12-19 09:24:06.679  8.341402  49.030727  \n",
       "13 2022-12-19 09:24:06.679  8.445234  49.035168  \n",
       "14 2022-12-19 09:24:06.679  8.444946  49.025825  \n",
       "15 2022-12-19 09:24:06.679  8.417748  49.011085  \n",
       "16 2022-12-19 09:24:06.679  8.386003  49.003319  \n",
       "17 2022-12-19 09:24:06.679  8.420012  49.015317  \n",
       "18 2022-12-19 09:24:06.679  8.463035  49.001548  \n",
       "19 2022-12-19 09:24:06.679  8.463206  48.995945  \n",
       "20 2022-12-19 09:24:06.679  8.473495  48.998944  \n",
       "21 2022-12-19 09:24:06.679  8.409262  49.011598  \n",
       "22 2022-12-19 09:24:06.679  8.421450  49.019967  \n",
       "23 2022-12-19 09:24:06.679  8.431170  49.021069  \n",
       "24 2022-12-19 09:24:06.679  8.405018  49.010687  \n",
       "25 2022-12-19 09:24:06.679  8.362634  48.985681  \n",
       "26 2022-12-19 09:24:06.679  8.404670  48.971175  \n",
       "27 2022-12-19 09:24:06.679  8.379993  48.988131  \n",
       "28 2022-12-19 09:24:06.679  8.378644  49.047159  \n",
       "29 2022-12-19 09:24:06.679  8.354738  49.009628  \n",
       "30 2022-12-19 09:24:06.679  8.343560  49.007101  \n",
       "31 2022-12-19 09:24:06.679  8.364190  49.002291  \n",
       "32 2022-12-19 09:24:06.679  8.350328  49.012277  \n",
       "33 2022-12-19 09:24:06.679  8.306225  49.035623  \n",
       "34 2022-12-19 09:24:06.679  8.352434  49.014929  \n",
       "35 2022-12-19 09:24:06.679  8.387375  49.052270  \n",
       "36 2022-12-19 09:24:06.679  8.400827  49.004327  \n",
       "37 2022-12-19 09:24:06.679  8.425673  49.005355  \n",
       "38 2022-12-19 09:24:06.679  8.417718  49.010664  \n",
       "39 2022-12-19 09:24:06.679  8.389091  49.021154  \n",
       "40 2022-12-19 09:24:06.679  8.433563  49.036465  \n",
       "41 2022-12-19 09:24:06.679  8.390915  49.016292  \n",
       "42 2022-12-19 09:24:06.679  8.390374  49.014744  \n",
       "43 2022-12-19 09:24:06.679  8.367536  49.005747  \n",
       "44 2022-12-19 09:24:06.679  8.403352  48.980858  \n",
       "45 2022-12-19 09:24:06.679  8.377506  49.005416  \n",
       "46 2022-12-19 09:24:06.679  8.375049  49.018978  \n",
       "47 2022-12-19 09:24:06.679  8.384746  48.998374  \n",
       "48 2022-12-19 09:24:06.679  8.335844  49.035362  \n",
       "49 2022-12-19 09:24:06.679  8.344573  49.031022  \n",
       "50 2022-12-19 09:24:06.679  8.461833  49.002762  "
      ]
     },
     "execution_count": 25,
     "metadata": {},
     "output_type": "execute_result"
    }
   ],
   "source": [
    "station_importance"
   ]
  },
  {
   "cell_type": "markdown",
   "id": "conceptual-configuration",
   "metadata": {},
   "source": [
    "Mapa do adaptacji z danymi geograficznymi (OSM?)"
   ]
  },
  {
   "cell_type": "code",
   "execution_count": 41,
   "id": "e93acd03",
   "metadata": {},
   "outputs": [
    {
     "data": {
      "application/vnd.plotly.v1+json": {
       "config": {
        "plotlyServerURL": "https://plot.ly"
       },
       "data": [
        {
         "hovertemplate": "collected=%{marker.size}<br>lat=%{lat}<br>lng=%{lon}<extra></extra>",
         "lat": [
          49.007126,
          49.008694,
          48.994617,
          49.027,
          49.010834,
          48.997704,
          49.010063,
          49.011246,
          49.006073,
          49.005444,
          49.001464,
          49.030205,
          49.030727,
          49.035168,
          49.025825,
          49.011085,
          49.003319,
          49.015317,
          49.001548,
          48.995945,
          48.998944,
          49.011598,
          49.019967,
          49.021069,
          49.010687,
          48.985681,
          48.971175,
          48.988131,
          49.047159,
          49.009628,
          49.007101,
          49.002291,
          49.012277,
          49.035623,
          49.014929,
          49.05227,
          49.004327,
          49.005355,
          49.010664,
          49.021154,
          49.036465,
          49.016292,
          49.014744,
          49.005747,
          48.980858,
          49.005416,
          49.018978,
          48.998374,
          49.035362,
          49.031022,
          49.002762
         ],
         "legendgroup": "",
         "lon": [
          8.402725,
          8.395077,
          8.400361,
          8.45354,
          8.395102,
          8.393548,
          8.388213,
          8.423453,
          8.431732,
          8.394901,
          8.405775,
          8.375981,
          8.341402,
          8.445234,
          8.444946,
          8.417748,
          8.386003,
          8.420012,
          8.463035,
          8.463206,
          8.473495,
          8.409262,
          8.42145,
          8.43117,
          8.405018,
          8.362634,
          8.40467,
          8.379993,
          8.378644,
          8.354738,
          8.34356,
          8.36419,
          8.350328,
          8.306225,
          8.352434,
          8.387375,
          8.400827,
          8.425673,
          8.417718,
          8.389091,
          8.433563,
          8.390915,
          8.390374,
          8.367536,
          8.403352,
          8.377506,
          8.375049,
          8.384746,
          8.335844,
          8.344573,
          8.461833
         ],
         "marker": {
          "color": "#636efa",
          "size": [
           19,
           45,
           384,
           16,
           45,
           5,
           10,
           52,
           28,
           16,
           23,
           9,
           1,
           35,
           19,
           89,
           4,
           56,
           16,
           4,
           6,
           55,
           248,
           67,
           45,
           4,
           8,
           16,
           13,
           2,
           0,
           12,
           1,
           0,
           2,
           9,
           13,
           6,
           22,
           31,
           22,
           66,
           42,
           3,
           6,
           7,
           81,
           7,
           0,
           2,
           1
          ],
          "sizemode": "area",
          "sizeref": 0.96
         },
         "mode": "markers",
         "name": "",
         "showlegend": false,
         "subplot": "mapbox",
         "type": "scattermapbox"
        }
       ],
       "layout": {
        "legend": {
         "itemsizing": "constant",
         "tracegroupgap": 0
        },
        "mapbox": {
         "accesstoken": "pk.eyJ1IjoiZ29zaWFoYWRhc3oiLCJhIjoiY2xjOHo5bjF1MDA2NDNxb3dieTJ5NGlrYiJ9.FIyoBHKVuKkYyP4fg3rjYQ",
         "center": {
          "lat": 49.01187164705882,
          "lon": 8.397368235294119
         },
         "domain": {
          "x": [
           0,
           1
          ],
          "y": [
           0,
           1
          ]
         },
         "style": "open-street-map",
         "zoom": 8
        },
        "margin": {
         "t": 60
        },
        "template": {
         "data": {
          "bar": [
           {
            "error_x": {
             "color": "#2a3f5f"
            },
            "error_y": {
             "color": "#2a3f5f"
            },
            "marker": {
             "line": {
              "color": "#E5ECF6",
              "width": 0.5
             },
             "pattern": {
              "fillmode": "overlay",
              "size": 10,
              "solidity": 0.2
             }
            },
            "type": "bar"
           }
          ],
          "barpolar": [
           {
            "marker": {
             "line": {
              "color": "#E5ECF6",
              "width": 0.5
             },
             "pattern": {
              "fillmode": "overlay",
              "size": 10,
              "solidity": 0.2
             }
            },
            "type": "barpolar"
           }
          ],
          "carpet": [
           {
            "aaxis": {
             "endlinecolor": "#2a3f5f",
             "gridcolor": "white",
             "linecolor": "white",
             "minorgridcolor": "white",
             "startlinecolor": "#2a3f5f"
            },
            "baxis": {
             "endlinecolor": "#2a3f5f",
             "gridcolor": "white",
             "linecolor": "white",
             "minorgridcolor": "white",
             "startlinecolor": "#2a3f5f"
            },
            "type": "carpet"
           }
          ],
          "choropleth": [
           {
            "colorbar": {
             "outlinewidth": 0,
             "ticks": ""
            },
            "type": "choropleth"
           }
          ],
          "contour": [
           {
            "colorbar": {
             "outlinewidth": 0,
             "ticks": ""
            },
            "colorscale": [
             [
              0,
              "#0d0887"
             ],
             [
              0.1111111111111111,
              "#46039f"
             ],
             [
              0.2222222222222222,
              "#7201a8"
             ],
             [
              0.3333333333333333,
              "#9c179e"
             ],
             [
              0.4444444444444444,
              "#bd3786"
             ],
             [
              0.5555555555555556,
              "#d8576b"
             ],
             [
              0.6666666666666666,
              "#ed7953"
             ],
             [
              0.7777777777777778,
              "#fb9f3a"
             ],
             [
              0.8888888888888888,
              "#fdca26"
             ],
             [
              1,
              "#f0f921"
             ]
            ],
            "type": "contour"
           }
          ],
          "contourcarpet": [
           {
            "colorbar": {
             "outlinewidth": 0,
             "ticks": ""
            },
            "type": "contourcarpet"
           }
          ],
          "heatmap": [
           {
            "colorbar": {
             "outlinewidth": 0,
             "ticks": ""
            },
            "colorscale": [
             [
              0,
              "#0d0887"
             ],
             [
              0.1111111111111111,
              "#46039f"
             ],
             [
              0.2222222222222222,
              "#7201a8"
             ],
             [
              0.3333333333333333,
              "#9c179e"
             ],
             [
              0.4444444444444444,
              "#bd3786"
             ],
             [
              0.5555555555555556,
              "#d8576b"
             ],
             [
              0.6666666666666666,
              "#ed7953"
             ],
             [
              0.7777777777777778,
              "#fb9f3a"
             ],
             [
              0.8888888888888888,
              "#fdca26"
             ],
             [
              1,
              "#f0f921"
             ]
            ],
            "type": "heatmap"
           }
          ],
          "heatmapgl": [
           {
            "colorbar": {
             "outlinewidth": 0,
             "ticks": ""
            },
            "colorscale": [
             [
              0,
              "#0d0887"
             ],
             [
              0.1111111111111111,
              "#46039f"
             ],
             [
              0.2222222222222222,
              "#7201a8"
             ],
             [
              0.3333333333333333,
              "#9c179e"
             ],
             [
              0.4444444444444444,
              "#bd3786"
             ],
             [
              0.5555555555555556,
              "#d8576b"
             ],
             [
              0.6666666666666666,
              "#ed7953"
             ],
             [
              0.7777777777777778,
              "#fb9f3a"
             ],
             [
              0.8888888888888888,
              "#fdca26"
             ],
             [
              1,
              "#f0f921"
             ]
            ],
            "type": "heatmapgl"
           }
          ],
          "histogram": [
           {
            "marker": {
             "pattern": {
              "fillmode": "overlay",
              "size": 10,
              "solidity": 0.2
             }
            },
            "type": "histogram"
           }
          ],
          "histogram2d": [
           {
            "colorbar": {
             "outlinewidth": 0,
             "ticks": ""
            },
            "colorscale": [
             [
              0,
              "#0d0887"
             ],
             [
              0.1111111111111111,
              "#46039f"
             ],
             [
              0.2222222222222222,
              "#7201a8"
             ],
             [
              0.3333333333333333,
              "#9c179e"
             ],
             [
              0.4444444444444444,
              "#bd3786"
             ],
             [
              0.5555555555555556,
              "#d8576b"
             ],
             [
              0.6666666666666666,
              "#ed7953"
             ],
             [
              0.7777777777777778,
              "#fb9f3a"
             ],
             [
              0.8888888888888888,
              "#fdca26"
             ],
             [
              1,
              "#f0f921"
             ]
            ],
            "type": "histogram2d"
           }
          ],
          "histogram2dcontour": [
           {
            "colorbar": {
             "outlinewidth": 0,
             "ticks": ""
            },
            "colorscale": [
             [
              0,
              "#0d0887"
             ],
             [
              0.1111111111111111,
              "#46039f"
             ],
             [
              0.2222222222222222,
              "#7201a8"
             ],
             [
              0.3333333333333333,
              "#9c179e"
             ],
             [
              0.4444444444444444,
              "#bd3786"
             ],
             [
              0.5555555555555556,
              "#d8576b"
             ],
             [
              0.6666666666666666,
              "#ed7953"
             ],
             [
              0.7777777777777778,
              "#fb9f3a"
             ],
             [
              0.8888888888888888,
              "#fdca26"
             ],
             [
              1,
              "#f0f921"
             ]
            ],
            "type": "histogram2dcontour"
           }
          ],
          "mesh3d": [
           {
            "colorbar": {
             "outlinewidth": 0,
             "ticks": ""
            },
            "type": "mesh3d"
           }
          ],
          "parcoords": [
           {
            "line": {
             "colorbar": {
              "outlinewidth": 0,
              "ticks": ""
             }
            },
            "type": "parcoords"
           }
          ],
          "pie": [
           {
            "automargin": true,
            "type": "pie"
           }
          ],
          "scatter": [
           {
            "fillpattern": {
             "fillmode": "overlay",
             "size": 10,
             "solidity": 0.2
            },
            "type": "scatter"
           }
          ],
          "scatter3d": [
           {
            "line": {
             "colorbar": {
              "outlinewidth": 0,
              "ticks": ""
             }
            },
            "marker": {
             "colorbar": {
              "outlinewidth": 0,
              "ticks": ""
             }
            },
            "type": "scatter3d"
           }
          ],
          "scattercarpet": [
           {
            "marker": {
             "colorbar": {
              "outlinewidth": 0,
              "ticks": ""
             }
            },
            "type": "scattercarpet"
           }
          ],
          "scattergeo": [
           {
            "marker": {
             "colorbar": {
              "outlinewidth": 0,
              "ticks": ""
             }
            },
            "type": "scattergeo"
           }
          ],
          "scattergl": [
           {
            "marker": {
             "colorbar": {
              "outlinewidth": 0,
              "ticks": ""
             }
            },
            "type": "scattergl"
           }
          ],
          "scattermapbox": [
           {
            "marker": {
             "colorbar": {
              "outlinewidth": 0,
              "ticks": ""
             }
            },
            "type": "scattermapbox"
           }
          ],
          "scatterpolar": [
           {
            "marker": {
             "colorbar": {
              "outlinewidth": 0,
              "ticks": ""
             }
            },
            "type": "scatterpolar"
           }
          ],
          "scatterpolargl": [
           {
            "marker": {
             "colorbar": {
              "outlinewidth": 0,
              "ticks": ""
             }
            },
            "type": "scatterpolargl"
           }
          ],
          "scatterternary": [
           {
            "marker": {
             "colorbar": {
              "outlinewidth": 0,
              "ticks": ""
             }
            },
            "type": "scatterternary"
           }
          ],
          "surface": [
           {
            "colorbar": {
             "outlinewidth": 0,
             "ticks": ""
            },
            "colorscale": [
             [
              0,
              "#0d0887"
             ],
             [
              0.1111111111111111,
              "#46039f"
             ],
             [
              0.2222222222222222,
              "#7201a8"
             ],
             [
              0.3333333333333333,
              "#9c179e"
             ],
             [
              0.4444444444444444,
              "#bd3786"
             ],
             [
              0.5555555555555556,
              "#d8576b"
             ],
             [
              0.6666666666666666,
              "#ed7953"
             ],
             [
              0.7777777777777778,
              "#fb9f3a"
             ],
             [
              0.8888888888888888,
              "#fdca26"
             ],
             [
              1,
              "#f0f921"
             ]
            ],
            "type": "surface"
           }
          ],
          "table": [
           {
            "cells": {
             "fill": {
              "color": "#EBF0F8"
             },
             "line": {
              "color": "white"
             }
            },
            "header": {
             "fill": {
              "color": "#C8D4E3"
             },
             "line": {
              "color": "white"
             }
            },
            "type": "table"
           }
          ]
         },
         "layout": {
          "annotationdefaults": {
           "arrowcolor": "#2a3f5f",
           "arrowhead": 0,
           "arrowwidth": 1
          },
          "autotypenumbers": "strict",
          "coloraxis": {
           "colorbar": {
            "outlinewidth": 0,
            "ticks": ""
           }
          },
          "colorscale": {
           "diverging": [
            [
             0,
             "#8e0152"
            ],
            [
             0.1,
             "#c51b7d"
            ],
            [
             0.2,
             "#de77ae"
            ],
            [
             0.3,
             "#f1b6da"
            ],
            [
             0.4,
             "#fde0ef"
            ],
            [
             0.5,
             "#f7f7f7"
            ],
            [
             0.6,
             "#e6f5d0"
            ],
            [
             0.7,
             "#b8e186"
            ],
            [
             0.8,
             "#7fbc41"
            ],
            [
             0.9,
             "#4d9221"
            ],
            [
             1,
             "#276419"
            ]
           ],
           "sequential": [
            [
             0,
             "#0d0887"
            ],
            [
             0.1111111111111111,
             "#46039f"
            ],
            [
             0.2222222222222222,
             "#7201a8"
            ],
            [
             0.3333333333333333,
             "#9c179e"
            ],
            [
             0.4444444444444444,
             "#bd3786"
            ],
            [
             0.5555555555555556,
             "#d8576b"
            ],
            [
             0.6666666666666666,
             "#ed7953"
            ],
            [
             0.7777777777777778,
             "#fb9f3a"
            ],
            [
             0.8888888888888888,
             "#fdca26"
            ],
            [
             1,
             "#f0f921"
            ]
           ],
           "sequentialminus": [
            [
             0,
             "#0d0887"
            ],
            [
             0.1111111111111111,
             "#46039f"
            ],
            [
             0.2222222222222222,
             "#7201a8"
            ],
            [
             0.3333333333333333,
             "#9c179e"
            ],
            [
             0.4444444444444444,
             "#bd3786"
            ],
            [
             0.5555555555555556,
             "#d8576b"
            ],
            [
             0.6666666666666666,
             "#ed7953"
            ],
            [
             0.7777777777777778,
             "#fb9f3a"
            ],
            [
             0.8888888888888888,
             "#fdca26"
            ],
            [
             1,
             "#f0f921"
            ]
           ]
          },
          "colorway": [
           "#636efa",
           "#EF553B",
           "#00cc96",
           "#ab63fa",
           "#FFA15A",
           "#19d3f3",
           "#FF6692",
           "#B6E880",
           "#FF97FF",
           "#FECB52"
          ],
          "font": {
           "color": "#2a3f5f"
          },
          "geo": {
           "bgcolor": "white",
           "lakecolor": "white",
           "landcolor": "#E5ECF6",
           "showlakes": true,
           "showland": true,
           "subunitcolor": "white"
          },
          "hoverlabel": {
           "align": "left"
          },
          "hovermode": "closest",
          "mapbox": {
           "style": "light"
          },
          "paper_bgcolor": "white",
          "plot_bgcolor": "#E5ECF6",
          "polar": {
           "angularaxis": {
            "gridcolor": "white",
            "linecolor": "white",
            "ticks": ""
           },
           "bgcolor": "#E5ECF6",
           "radialaxis": {
            "gridcolor": "white",
            "linecolor": "white",
            "ticks": ""
           }
          },
          "scene": {
           "xaxis": {
            "backgroundcolor": "#E5ECF6",
            "gridcolor": "white",
            "gridwidth": 2,
            "linecolor": "white",
            "showbackground": true,
            "ticks": "",
            "zerolinecolor": "white"
           },
           "yaxis": {
            "backgroundcolor": "#E5ECF6",
            "gridcolor": "white",
            "gridwidth": 2,
            "linecolor": "white",
            "showbackground": true,
            "ticks": "",
            "zerolinecolor": "white"
           },
           "zaxis": {
            "backgroundcolor": "#E5ECF6",
            "gridcolor": "white",
            "gridwidth": 2,
            "linecolor": "white",
            "showbackground": true,
            "ticks": "",
            "zerolinecolor": "white"
           }
          },
          "shapedefaults": {
           "line": {
            "color": "#2a3f5f"
           }
          },
          "ternary": {
           "aaxis": {
            "gridcolor": "white",
            "linecolor": "white",
            "ticks": ""
           },
           "baxis": {
            "gridcolor": "white",
            "linecolor": "white",
            "ticks": ""
           },
           "bgcolor": "#E5ECF6",
           "caxis": {
            "gridcolor": "white",
            "linecolor": "white",
            "ticks": ""
           }
          },
          "title": {
           "x": 0.05
          },
          "xaxis": {
           "automargin": true,
           "gridcolor": "white",
           "linecolor": "white",
           "ticks": "",
           "title": {
            "standoff": 15
           },
           "zerolinecolor": "white",
           "zerolinewidth": 2
          },
          "yaxis": {
           "automargin": true,
           "gridcolor": "white",
           "linecolor": "white",
           "ticks": "",
           "title": {
            "standoff": 15
           },
           "zerolinecolor": "white",
           "zerolinewidth": 2
          }
         }
        }
       }
      }
     },
     "metadata": {},
     "output_type": "display_data"
    }
   ],
   "source": [
    "px.set_mapbox_access_token(open(\".mapbox_token\").read())\n",
    "\n",
    "\n",
    "fig = px.scatter_mapbox(station_importance, lat='lat',\n",
    "                    lon='lng',\n",
    "                    size='collected')\n",
    "fig.update_layout(mapbox_style = \"open-street-map\")\n",
    "\n",
    "fig.show()\n"
   ]
  }
 ],
 "metadata": {
  "kernelspec": {
   "display_name": "base",
   "language": "python",
   "name": "python3"
  },
  "language_info": {
   "codemirror_mode": {
    "name": "ipython",
    "version": 3
   },
   "file_extension": ".py",
   "mimetype": "text/x-python",
   "name": "python",
   "nbconvert_exporter": "python",
   "pygments_lexer": "ipython3",
   "version": "3.9.7"
  },
  "vscode": {
   "interpreter": {
    "hash": "92aa240e57bf11889a8c4bac914ef3c0c28ae8ce2ecc8cb9eb0b157bd0108e95"
   }
  }
 },
 "nbformat": 4,
 "nbformat_minor": 5
}
