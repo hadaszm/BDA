{
 "cells": [
  {
   "cell_type": "code",
   "execution_count": 1,
   "metadata": {},
   "outputs": [],
   "source": [
    "import requests\n",
    "import json\n",
    "import pandas as pd\n",
    "import psycopg2 "
   ]
  },
  {
   "cell_type": "code",
   "execution_count": 2,
   "metadata": {},
   "outputs": [],
   "source": [
    "city_names = ['Bonn', 'Düsseldorf', 'Nürnberg', 'Köln', 'Leipzig', 'Dresden', 'Karlsruhe', 'Berlin', 'Bremen', 'Bilbao', 'Ostrava', 'Duisburg', 'Dortmund', 'Mannheim', 'Heidelberg', 'Glasgow', 'Freiburg', 'Žilina', 'Ranchi', 'Las Palmas de Gran Canaria', 'Cardiff', 'Delhi', 'Marburg', 'Hannover', 'Luzern', 'Pittsburgh', 'Gießen', 'Hoboken', 'Kassel', 'Kiel']"
   ]
  },
  {
   "cell_type": "code",
   "execution_count": 97,
   "metadata": {},
   "outputs": [],
   "source": [
    "def get_cities_popul(city_names):\n",
    "    res_cities = []\n",
    "    res_pops = []\n",
    "    error_cities = []\n",
    "\n",
    "    for name in city_names:\n",
    "        api_url = 'https://countriesnow.space/api/v0.1/countries/population/cities'\n",
    "        response = requests.post(api_url, data=[('city',  name)])\n",
    "        if response.status_code == requests.codes.ok:\n",
    "            resp = json.loads(response.text)\n",
    "            res_cities.append(name)\n",
    "            res_pops.append(round(float(resp['data']['populationCounts'][0]['value'])))\n",
    "        else:\n",
    "            error_cities.append(name)\n",
    "\n",
    "    return pd.DataFrame({'city': res_cities, 'population': res_pops}), error_cities"
   ]
  },
  {
   "cell_type": "code",
   "execution_count": 98,
   "metadata": {},
   "outputs": [],
   "source": [
    "# get cities populations\n",
    "city_popul, error_cities = get_cities_popul(city_names)"
   ]
  },
  {
   "cell_type": "code",
   "execution_count": 48,
   "metadata": {},
   "outputs": [
    {
     "name": "stdout",
     "output_type": "stream",
     "text": [
      "No data found for: ['Freiburg', 'Žilina', 'Marburg', 'Pittsburgh', 'Gießen', 'Hoboken']\n"
     ]
    }
   ],
   "source": [
    "print(f\"No data found for: {error_cities}\")"
   ]
  },
  {
   "cell_type": "code",
   "execution_count": 49,
   "metadata": {},
   "outputs": [],
   "source": [
    "# manual missing data inputation based on wikipedia.com\n",
    "city_popul.loc[len(city_popul)] = ['Freiburg', 230940]\n",
    "city_popul.loc[len(city_popul)] = ['Žilina', 81094]\n",
    "city_popul.loc[len(city_popul)] = ['Marburg', 73836]\n",
    "city_popul.loc[len(city_popul)] = ['Pittsburgh', 302971]\n",
    "city_popul.loc[len(city_popul)] = ['Gießen', 83628]\n",
    "city_popul.loc[len(city_popul)] = ['Hoboken',  58690]"
   ]
  },
  {
   "cell_type": "code",
   "execution_count": 50,
   "metadata": {},
   "outputs": [
    {
     "data": {
      "text/html": [
       "<div>\n",
       "<style scoped>\n",
       "    .dataframe tbody tr th:only-of-type {\n",
       "        vertical-align: middle;\n",
       "    }\n",
       "\n",
       "    .dataframe tbody tr th {\n",
       "        vertical-align: top;\n",
       "    }\n",
       "\n",
       "    .dataframe thead th {\n",
       "        text-align: right;\n",
       "    }\n",
       "</style>\n",
       "<table border=\"1\" class=\"dataframe\">\n",
       "  <thead>\n",
       "    <tr style=\"text-align: right;\">\n",
       "      <th></th>\n",
       "      <th>city</th>\n",
       "      <th>population</th>\n",
       "    </tr>\n",
       "  </thead>\n",
       "  <tbody>\n",
       "    <tr>\n",
       "      <th>0</th>\n",
       "      <td>Bonn</td>\n",
       "      <td>309869</td>\n",
       "    </tr>\n",
       "    <tr>\n",
       "      <th>1</th>\n",
       "      <td>Düsseldorf</td>\n",
       "      <td>593682</td>\n",
       "    </tr>\n",
       "    <tr>\n",
       "      <th>2</th>\n",
       "      <td>Nürnberg</td>\n",
       "      <td>495121</td>\n",
       "    </tr>\n",
       "    <tr>\n",
       "      <th>3</th>\n",
       "      <td>Köln</td>\n",
       "      <td>1024373</td>\n",
       "    </tr>\n",
       "    <tr>\n",
       "      <th>4</th>\n",
       "      <td>Leipzig</td>\n",
       "      <td>520838</td>\n",
       "    </tr>\n",
       "    <tr>\n",
       "      <th>5</th>\n",
       "      <td>Dresden</td>\n",
       "      <td>525105</td>\n",
       "    </tr>\n",
       "    <tr>\n",
       "      <th>6</th>\n",
       "      <td>Karlsruhe</td>\n",
       "      <td>296033</td>\n",
       "    </tr>\n",
       "    <tr>\n",
       "      <th>7</th>\n",
       "      <td>Berlin</td>\n",
       "      <td>3375222</td>\n",
       "    </tr>\n",
       "    <tr>\n",
       "      <th>8</th>\n",
       "      <td>Bremen</td>\n",
       "      <td>546451</td>\n",
       "    </tr>\n",
       "    <tr>\n",
       "      <th>9</th>\n",
       "      <td>Bilbao</td>\n",
       "      <td>350493</td>\n",
       "    </tr>\n",
       "    <tr>\n",
       "      <th>10</th>\n",
       "      <td>Ostrava</td>\n",
       "      <td>297421</td>\n",
       "    </tr>\n",
       "    <tr>\n",
       "      <th>11</th>\n",
       "      <td>Duisburg</td>\n",
       "      <td>486816</td>\n",
       "    </tr>\n",
       "    <tr>\n",
       "      <th>12</th>\n",
       "      <td>Dortmund</td>\n",
       "      <td>572087</td>\n",
       "    </tr>\n",
       "    <tr>\n",
       "      <th>13</th>\n",
       "      <td>Mannheim</td>\n",
       "      <td>294627</td>\n",
       "    </tr>\n",
       "    <tr>\n",
       "      <th>14</th>\n",
       "      <td>Heidelberg</td>\n",
       "      <td>150335</td>\n",
       "    </tr>\n",
       "    <tr>\n",
       "      <th>15</th>\n",
       "      <td>Glasgow</td>\n",
       "      <td>577869</td>\n",
       "    </tr>\n",
       "    <tr>\n",
       "      <th>16</th>\n",
       "      <td>Ranchi</td>\n",
       "      <td>847093</td>\n",
       "    </tr>\n",
       "    <tr>\n",
       "      <th>17</th>\n",
       "      <td>Las Palmas de Gran Canaria</td>\n",
       "      <td>382578</td>\n",
       "    </tr>\n",
       "    <tr>\n",
       "      <th>18</th>\n",
       "      <td>Cardiff</td>\n",
       "      <td>327706</td>\n",
       "    </tr>\n",
       "    <tr>\n",
       "      <th>19</th>\n",
       "      <td>Delhi</td>\n",
       "      <td>9879172</td>\n",
       "    </tr>\n",
       "    <tr>\n",
       "      <th>20</th>\n",
       "      <td>Hannover</td>\n",
       "      <td>514137</td>\n",
       "    </tr>\n",
       "    <tr>\n",
       "      <th>21</th>\n",
       "      <td>Luzern</td>\n",
       "      <td>78786</td>\n",
       "    </tr>\n",
       "    <tr>\n",
       "      <th>22</th>\n",
       "      <td>Kassel</td>\n",
       "      <td>192874</td>\n",
       "    </tr>\n",
       "    <tr>\n",
       "      <th>23</th>\n",
       "      <td>Kiel</td>\n",
       "      <td>239866</td>\n",
       "    </tr>\n",
       "    <tr>\n",
       "      <th>24</th>\n",
       "      <td>Freiburg</td>\n",
       "      <td>230940</td>\n",
       "    </tr>\n",
       "    <tr>\n",
       "      <th>25</th>\n",
       "      <td>Žilina</td>\n",
       "      <td>81094</td>\n",
       "    </tr>\n",
       "    <tr>\n",
       "      <th>26</th>\n",
       "      <td>Marburg</td>\n",
       "      <td>73836</td>\n",
       "    </tr>\n",
       "    <tr>\n",
       "      <th>27</th>\n",
       "      <td>Pittsburgh</td>\n",
       "      <td>302971</td>\n",
       "    </tr>\n",
       "    <tr>\n",
       "      <th>28</th>\n",
       "      <td>Gießen</td>\n",
       "      <td>83628</td>\n",
       "    </tr>\n",
       "    <tr>\n",
       "      <th>29</th>\n",
       "      <td>Hoboken</td>\n",
       "      <td>58690</td>\n",
       "    </tr>\n",
       "  </tbody>\n",
       "</table>\n",
       "</div>"
      ],
      "text/plain": [
       "                          city  population\n",
       "0                         Bonn      309869\n",
       "1                   Düsseldorf      593682\n",
       "2                     Nürnberg      495121\n",
       "3                         Köln     1024373\n",
       "4                      Leipzig      520838\n",
       "5                      Dresden      525105\n",
       "6                    Karlsruhe      296033\n",
       "7                       Berlin     3375222\n",
       "8                       Bremen      546451\n",
       "9                       Bilbao      350493\n",
       "10                     Ostrava      297421\n",
       "11                    Duisburg      486816\n",
       "12                    Dortmund      572087\n",
       "13                    Mannheim      294627\n",
       "14                  Heidelberg      150335\n",
       "15                     Glasgow      577869\n",
       "16                      Ranchi      847093\n",
       "17  Las Palmas de Gran Canaria      382578\n",
       "18                     Cardiff      327706\n",
       "19                       Delhi     9879172\n",
       "20                    Hannover      514137\n",
       "21                      Luzern       78786\n",
       "22                      Kassel      192874\n",
       "23                        Kiel      239866\n",
       "24                    Freiburg      230940\n",
       "25                      Žilina       81094\n",
       "26                     Marburg       73836\n",
       "27                  Pittsburgh      302971\n",
       "28                      Gießen       83628\n",
       "29                     Hoboken       58690"
      ]
     },
     "execution_count": 50,
     "metadata": {},
     "output_type": "execute_result"
    }
   ],
   "source": [
    "city_popul"
   ]
  },
  {
   "cell_type": "code",
   "execution_count": 3,
   "metadata": {},
   "outputs": [
    {
     "name": "stdout",
     "output_type": "stream",
     "text": [
      "Success connecting to the DB\n"
     ]
    }
   ],
   "source": [
    "# connect to the database\n",
    "try:\n",
    "    conn = psycopg2.connect(\"dbname='bda-2022-nextbike-data' user='postgres' host='34.118.39.208' password='bda-2022-postgres'\")\n",
    "    print('Success connecting to the DB')\n",
    "except:\n",
    "    print('I am unable to connect to the database')\n",
    "\n",
    "cursor = conn.cursor()"
   ]
  },
  {
   "cell_type": "code",
   "execution_count": 53,
   "metadata": {},
   "outputs": [],
   "source": [
    "# create table\n",
    "try:\n",
    "    cursor.execute(\"\"\"CREATE TABLE cities_populations (\n",
    "                    city VARCHAR(200), \n",
    "                    population INTEGER, \n",
    "                    PRIMARY KEY(city))\"\"\")\n",
    "    conn.commit()\n",
    "except Exception as e:\n",
    "    cursor.execute(\"ROLLBACK\")\n",
    "    print(e)"
   ]
  },
  {
   "cell_type": "code",
   "execution_count": 89,
   "metadata": {},
   "outputs": [],
   "source": [
    "# insert cities populations values\n",
    "cities_values = \"\"\n",
    "for i in range(len(city_popul)):\n",
    "    cities_values = cities_values + f\"('{city_popul.iloc[i].city}', {city_popul.iloc[i].population}),\"\n",
    "cities_values = cities_values[:-1]\n",
    "\n",
    "try:\n",
    "    cursor.execute(\"INSERT INTO cities_populations VALUES \" + cities_values)\n",
    "    conn.commit()\n",
    "except Exception as e:\n",
    "    cursor.execute(\"ROLLBACK\")\n",
    "    print(e)\n"
   ]
  },
  {
   "cell_type": "code",
   "execution_count": 4,
   "metadata": {},
   "outputs": [
    {
     "name": "stdout",
     "output_type": "stream",
     "text": [
      "[('Bonn', 309869), ('Düsseldorf', 593682), ('Nürnberg', 495121), ('Köln', 1024373), ('Leipzig', 520838), ('Dresden', 525105), ('Karlsruhe', 296033), ('Berlin', 3375222), ('Bremen', 546451), ('Bilbao', 350493), ('Ostrava', 297421), ('Duisburg', 486816), ('Dortmund', 572087), ('Mannheim', 294627), ('Heidelberg', 150335), ('Glasgow', 577869), ('Ranchi', 847093), ('Las Palmas de Gran Canaria', 382578), ('Cardiff', 327706), ('Delhi', 9879172), ('Hannover', 514137), ('Luzern', 78786), ('Kassel', 192874), ('Kiel', 239866), ('Freiburg', 230940), ('Žilina', 81094), ('Marburg', 73836), ('Pittsburgh', 302971), ('Gießen', 83628), ('Hoboken', 58690)]\n"
     ]
    }
   ],
   "source": [
    "# test whether values are well inserted\n",
    "cursor.execute(\"\"\"SELECT * FROM cities_populations\"\"\")\n",
    "rows = cursor.fetchall()\n",
    "print(rows)"
   ]
  },
  {
   "cell_type": "code",
   "execution_count": 3,
   "metadata": {},
   "outputs": [
    {
     "ename": "NameError",
     "evalue": "name 'conn' is not defined",
     "output_type": "error",
     "traceback": [
      "\u001b[1;31m---------------------------------------------------------------------------\u001b[0m",
      "\u001b[1;31mNameError\u001b[0m                                 Traceback (most recent call last)",
      "Cell \u001b[1;32mIn [3], line 1\u001b[0m\n\u001b[1;32m----> 1\u001b[0m conn\u001b[39m.\u001b[39mclose()\n",
      "\u001b[1;31mNameError\u001b[0m: name 'conn' is not defined"
     ]
    }
   ],
   "source": [
    "conn.close()"
   ]
  },
  {
   "cell_type": "code",
   "execution_count": null,
   "metadata": {},
   "outputs": [],
   "source": []
  },
  {
   "cell_type": "code",
   "execution_count": null,
   "metadata": {},
   "outputs": [],
   "source": []
  },
  {
   "cell_type": "code",
   "execution_count": 9,
   "metadata": {},
   "outputs": [
    {
     "name": "stdout",
     "output_type": "stream",
     "text": [
      "[(datetime.datetime(2019, 10, 10, 16, 2, 30), datetime.datetime(2019, 10, 10, 16, 7, 30), 5150273, 'Germany', 547, 'Bonn', 50.732875555556, 7.1172566666667, 0, 1)]\n"
     ]
    }
   ],
   "source": [
    "# test whether values are well inserted\n",
    "cursor.execute(\"\"\"SELECT * FROM intervals_usage limit 10\"\"\")\n",
    "rows = cursor.fetchall()\n",
    "print(rows[0:1])"
   ]
  },
  {
   "cell_type": "code",
   "execution_count": 7,
   "metadata": {},
   "outputs": [],
   "source": [
    "cursor.execute(\"ROLLBACK\")"
   ]
  }
 ],
 "metadata": {
  "kernelspec": {
   "display_name": "bda",
   "language": "python",
   "name": "python3"
  },
  "language_info": {
   "codemirror_mode": {
    "name": "ipython",
    "version": 3
   },
   "file_extension": ".py",
   "mimetype": "text/x-python",
   "name": "python",
   "nbconvert_exporter": "python",
   "pygments_lexer": "ipython3",
   "version": "3.9.13"
  },
  "orig_nbformat": 4,
  "vscode": {
   "interpreter": {
    "hash": "a5e09122b539bf992403bcb9daaf4a0c29dc7f40e7a085ca62747cc36c8943bf"
   }
  }
 },
 "nbformat": 4,
 "nbformat_minor": 2
}
